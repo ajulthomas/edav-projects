{
 "cells": [
  {
   "cell_type": "markdown",
   "id": "1ddd40cb",
   "metadata": {},
   "source": [
    "# Machine Learning on AWS Cloud\n",
    "\n",
    "## Combined Data version 1\n"
   ]
  },
  {
   "cell_type": "code",
   "execution_count": 1,
   "id": "60a8291b-99e2-4a8c-9d83-1e75f1c3b351",
   "metadata": {
    "tags": []
   },
   "outputs": [
    {
     "name": "stdout",
     "output_type": "stream",
     "text": [
      "sagemaker.config INFO - Not applying SDK defaults from location: /etc/xdg/sagemaker/config.yaml\n",
      "sagemaker.config INFO - Not applying SDK defaults from location: /home/ec2-user/.config/sagemaker/config.yaml\n"
     ]
    }
   ],
   "source": [
    "# import libraries\n",
    "import warnings, requests, zipfile, io\n",
    "\n",
    "warnings.simplefilter(\"ignore\")\n",
    "import pandas as pd\n",
    "from scipy.io import arff\n",
    "\n",
    "import os\n",
    "import boto3\n",
    "import sagemaker\n",
    "from sagemaker.image_uris import retrieve\n",
    "from sklearn.model_selection import train_test_split"
   ]
  },
  {
   "cell_type": "markdown",
   "id": "45930ec8",
   "metadata": {},
   "source": [
    "### Setting up S3 bucket\n"
   ]
  },
  {
   "cell_type": "code",
   "execution_count": 2,
   "id": "2b801158",
   "metadata": {
    "tags": []
   },
   "outputs": [],
   "source": [
    "import logging\n",
    "\n",
    "\n",
    "# import boto3\n",
    "\n",
    "\n",
    "from botocore.exceptions import ClientError\n",
    "\n",
    "\n",
    "def create_bucket(bucket_name, region=None):\n",
    "    # Create an S3 bucket in a specified region\n",
    "    # If a region is not specified, the bucket is created in the S3 default\n",
    "    # region (us-east-1).\n",
    "    # :param bucket_name: Bucket to create\n",
    "    # :param region: String region to create bucket in, e.g., 'us-west-2'\n",
    "    # :return: True if bucket created, else False\n",
    "\n",
    "    # Create bucket\n",
    "\n",
    "    try:\n",
    "\n",
    "        if region is None:\n",
    "\n",
    "            s3_client = boto3.client(\"s3\")\n",
    "\n",
    "            s3_client.create_bucket(Bucket=bucket_name)\n",
    "        else:\n",
    "\n",
    "            s3_client = boto3.client(\"s3\", region_name=region)\n",
    "\n",
    "            location = {\"LocationConstraint\": region}\n",
    "\n",
    "            s3_client.create_bucket(\n",
    "                Bucket=bucket_name, CreateBucketConfiguration=location\n",
    "            )\n",
    "\n",
    "    except ClientError as e:\n",
    "\n",
    "        logging.error(e)\n",
    "\n",
    "        return False\n",
    "\n",
    "    print(f\"S3 Bucket: {bucket_name} created successfully\")\n",
    "\n",
    "    return True"
   ]
  },
  {
   "cell_type": "code",
   "execution_count": 3,
   "id": "681d28c4",
   "metadata": {
    "tags": []
   },
   "outputs": [],
   "source": [
    "# Function to check if the bucket exists\n",
    "def check_bucket_exists(bucket_name):\n",
    "    s3 = boto3.client(\"s3\")\n",
    "    try:\n",
    "        s3.head_bucket(Bucket=bucket_name)\n",
    "        print(f\"Bucket '{bucket_name}' already exists.\")\n",
    "        return True\n",
    "    except ClientError as e:\n",
    "        # If a 404 error is raised, the bucket does not exist\n",
    "        if e.response[\"Error\"][\"Code\"] == \"404\":\n",
    "            print(f\"Bucket '{bucket_name}' does not exist.\")\n",
    "            return False\n",
    "        else:\n",
    "            # If there's any other error, raise it\n",
    "            raise"
   ]
  },
  {
   "cell_type": "code",
   "execution_count": 5,
   "id": "4e1ba798",
   "metadata": {
    "tags": []
   },
   "outputs": [
    {
     "name": "stdout",
     "output_type": "stream",
     "text": [
      "Bucket 'u3253992-ajulthomas-oncloud' already exists.\n"
     ]
    }
   ],
   "source": [
    "# set the s3 bucket name\n",
    "bucket = \"u3253992-ajulthomas-oncloud\"\n",
    "\n",
    "# fetch the s3 resource\n",
    "s3_resource = boto3.Session().resource(\"s3\")\n",
    "\n",
    "\n",
    "# check if bucket exists\n",
    "bucket_exists = check_bucket_exists(bucket)\n",
    "\n",
    "# Create the bucket if it doesn't exist\n",
    "if not bucket_exists:\n",
    "    create_bucket(bucket)"
   ]
  },
  {
   "cell_type": "code",
   "execution_count": 6,
   "id": "a4caec53",
   "metadata": {
    "tags": []
   },
   "outputs": [],
   "source": [
    "# setting the prefix\n",
    "prefix = \"oncloud\"\n",
    "\n",
    "\n",
    "# uploading data to aws s3\n",
    "def upload_s3_csv(filename, folder, dataframe):\n",
    "    csv_buffer = io.StringIO()\n",
    "    dataframe.to_csv(csv_buffer, header=False, index=False)\n",
    "    print(s3_resource.Bucket(bucket))\n",
    "    s3_resource.Bucket(bucket).Object(os.path.join(prefix, folder, filename)).put(\n",
    "        Body=csv_buffer.getvalue()\n",
    "    )"
   ]
  },
  {
   "cell_type": "markdown",
   "id": "63f7210f",
   "metadata": {},
   "source": [
    "### Generic Functions\n"
   ]
  },
  {
   "cell_type": "code",
   "execution_count": 7,
   "id": "e8e6b3f5",
   "metadata": {
    "tags": []
   },
   "outputs": [],
   "source": [
    "from sklearn.metrics import confusion_matrix\n",
    "import matplotlib.pyplot as plt\n",
    "import seaborn as sns\n",
    "\n",
    "\n",
    "# function to plot confusion matrix\n",
    "def plot_confusion_matrix(test_labels, target_predicted):\n",
    "    # complete the code here\n",
    "    cm = confusion_matrix(test_labels, target_predicted)\n",
    "    # Create a heatmap\n",
    "    sns.heatmap(\n",
    "        cm,\n",
    "        annot=True,\n",
    "        fmt=\"d\",\n",
    "        cmap=\"Blues\",\n",
    "        xticklabels=[\"On-Time\", \"Delayed\"],\n",
    "        yticklabels=[\"On-Time\", \"Delayed\"],\n",
    "    )\n",
    "    plt.xlabel(\"Predicted\")\n",
    "    plt.ylabel(\"Actual\")\n",
    "    plt.title(\"Confusion Matrix\")\n",
    "    plt.show()"
   ]
  },
  {
   "cell_type": "markdown",
   "id": "a40e3a22",
   "metadata": {},
   "source": [
    "### Loading Data\n"
   ]
  },
  {
   "cell_type": "code",
   "execution_count": 8,
   "id": "09a929d0-d1ee-471f-a24f-337e1d911f36",
   "metadata": {
    "scrolled": true,
    "tags": []
   },
   "outputs": [
    {
     "data": {
      "text/html": [
       "<div>\n",
       "<style scoped>\n",
       "    .dataframe tbody tr th:only-of-type {\n",
       "        vertical-align: middle;\n",
       "    }\n",
       "\n",
       "    .dataframe tbody tr th {\n",
       "        vertical-align: top;\n",
       "    }\n",
       "\n",
       "    .dataframe thead th {\n",
       "        text-align: right;\n",
       "    }\n",
       "</style>\n",
       "<table border=\"1\" class=\"dataframe\">\n",
       "  <thead>\n",
       "    <tr style=\"text-align: right;\">\n",
       "      <th></th>\n",
       "      <th>target</th>\n",
       "      <th>Distance</th>\n",
       "      <th>Quarter_2</th>\n",
       "      <th>Quarter_3</th>\n",
       "      <th>Quarter_4</th>\n",
       "      <th>Month_2</th>\n",
       "      <th>Month_3</th>\n",
       "      <th>Month_4</th>\n",
       "      <th>Month_5</th>\n",
       "      <th>Month_6</th>\n",
       "      <th>...</th>\n",
       "      <th>Dest_DEN</th>\n",
       "      <th>Dest_DFW</th>\n",
       "      <th>Dest_IAH</th>\n",
       "      <th>Dest_LAX</th>\n",
       "      <th>Dest_ORD</th>\n",
       "      <th>Dest_PHX</th>\n",
       "      <th>Dest_SFO</th>\n",
       "      <th>DepHourofDay_Morning</th>\n",
       "      <th>DepHourofDay_Afternoon</th>\n",
       "      <th>DepHourofDay_Evening</th>\n",
       "    </tr>\n",
       "  </thead>\n",
       "  <tbody>\n",
       "    <tr>\n",
       "      <th>0</th>\n",
       "      <td>0.0</td>\n",
       "      <td>689.0</td>\n",
       "      <td>0</td>\n",
       "      <td>0</td>\n",
       "      <td>0</td>\n",
       "      <td>0</td>\n",
       "      <td>0</td>\n",
       "      <td>0</td>\n",
       "      <td>0</td>\n",
       "      <td>0</td>\n",
       "      <td>...</td>\n",
       "      <td>0</td>\n",
       "      <td>0</td>\n",
       "      <td>1</td>\n",
       "      <td>0</td>\n",
       "      <td>0</td>\n",
       "      <td>0</td>\n",
       "      <td>0</td>\n",
       "      <td>0</td>\n",
       "      <td>0</td>\n",
       "      <td>1</td>\n",
       "    </tr>\n",
       "    <tr>\n",
       "      <th>1</th>\n",
       "      <td>0.0</td>\n",
       "      <td>731.0</td>\n",
       "      <td>0</td>\n",
       "      <td>0</td>\n",
       "      <td>0</td>\n",
       "      <td>0</td>\n",
       "      <td>0</td>\n",
       "      <td>0</td>\n",
       "      <td>0</td>\n",
       "      <td>0</td>\n",
       "      <td>...</td>\n",
       "      <td>0</td>\n",
       "      <td>0</td>\n",
       "      <td>0</td>\n",
       "      <td>0</td>\n",
       "      <td>0</td>\n",
       "      <td>0</td>\n",
       "      <td>0</td>\n",
       "      <td>1</td>\n",
       "      <td>0</td>\n",
       "      <td>0</td>\n",
       "    </tr>\n",
       "    <tr>\n",
       "      <th>2</th>\n",
       "      <td>0.0</td>\n",
       "      <td>1199.0</td>\n",
       "      <td>0</td>\n",
       "      <td>0</td>\n",
       "      <td>0</td>\n",
       "      <td>0</td>\n",
       "      <td>0</td>\n",
       "      <td>0</td>\n",
       "      <td>0</td>\n",
       "      <td>0</td>\n",
       "      <td>...</td>\n",
       "      <td>1</td>\n",
       "      <td>0</td>\n",
       "      <td>0</td>\n",
       "      <td>0</td>\n",
       "      <td>0</td>\n",
       "      <td>0</td>\n",
       "      <td>0</td>\n",
       "      <td>0</td>\n",
       "      <td>0</td>\n",
       "      <td>1</td>\n",
       "    </tr>\n",
       "    <tr>\n",
       "      <th>3</th>\n",
       "      <td>0.0</td>\n",
       "      <td>1587.0</td>\n",
       "      <td>0</td>\n",
       "      <td>0</td>\n",
       "      <td>0</td>\n",
       "      <td>0</td>\n",
       "      <td>0</td>\n",
       "      <td>0</td>\n",
       "      <td>0</td>\n",
       "      <td>0</td>\n",
       "      <td>...</td>\n",
       "      <td>0</td>\n",
       "      <td>0</td>\n",
       "      <td>0</td>\n",
       "      <td>0</td>\n",
       "      <td>0</td>\n",
       "      <td>1</td>\n",
       "      <td>0</td>\n",
       "      <td>0</td>\n",
       "      <td>1</td>\n",
       "      <td>0</td>\n",
       "    </tr>\n",
       "    <tr>\n",
       "      <th>4</th>\n",
       "      <td>0.0</td>\n",
       "      <td>1587.0</td>\n",
       "      <td>0</td>\n",
       "      <td>0</td>\n",
       "      <td>0</td>\n",
       "      <td>0</td>\n",
       "      <td>0</td>\n",
       "      <td>0</td>\n",
       "      <td>0</td>\n",
       "      <td>0</td>\n",
       "      <td>...</td>\n",
       "      <td>0</td>\n",
       "      <td>0</td>\n",
       "      <td>0</td>\n",
       "      <td>0</td>\n",
       "      <td>0</td>\n",
       "      <td>0</td>\n",
       "      <td>0</td>\n",
       "      <td>1</td>\n",
       "      <td>0</td>\n",
       "      <td>0</td>\n",
       "    </tr>\n",
       "  </tbody>\n",
       "</table>\n",
       "<p>5 rows × 75 columns</p>\n",
       "</div>"
      ],
      "text/plain": [
       "   target  Distance  Quarter_2  Quarter_3  Quarter_4  Month_2  Month_3  \\\n",
       "0     0.0     689.0          0          0          0        0        0   \n",
       "1     0.0     731.0          0          0          0        0        0   \n",
       "2     0.0    1199.0          0          0          0        0        0   \n",
       "3     0.0    1587.0          0          0          0        0        0   \n",
       "4     0.0    1587.0          0          0          0        0        0   \n",
       "\n",
       "   Month_4  Month_5  Month_6  ...  Dest_DEN  Dest_DFW  Dest_IAH  Dest_LAX  \\\n",
       "0        0        0        0  ...         0         0         1         0   \n",
       "1        0        0        0  ...         0         0         0         0   \n",
       "2        0        0        0  ...         1         0         0         0   \n",
       "3        0        0        0  ...         0         0         0         0   \n",
       "4        0        0        0  ...         0         0         0         0   \n",
       "\n",
       "   Dest_ORD  Dest_PHX  Dest_SFO  DepHourofDay_Morning  DepHourofDay_Afternoon  \\\n",
       "0         0         0         0                     0                       0   \n",
       "1         0         0         0                     1                       0   \n",
       "2         0         0         0                     0                       0   \n",
       "3         0         1         0                     0                       1   \n",
       "4         0         0         0                     1                       0   \n",
       "\n",
       "   DepHourofDay_Evening  \n",
       "0                     1  \n",
       "1                     0  \n",
       "2                     1  \n",
       "3                     0  \n",
       "4                     0  \n",
       "\n",
       "[5 rows x 75 columns]"
      ]
     },
     "execution_count": 8,
     "metadata": {},
     "output_type": "execute_result"
    }
   ],
   "source": [
    "import pandas as pd\n",
    "\n",
    "# load the data\n",
    "\n",
    "\n",
    "data_v1 = pd.read_csv(\"./combined_csv_v1.csv\")\n",
    "\n",
    "\n",
    "data_v1.head()"
   ]
  },
  {
   "cell_type": "code",
   "execution_count": 9,
   "id": "c5caa5d2-3d8c-4eb4-ad94-a055154ce4b5",
   "metadata": {
    "tags": []
   },
   "outputs": [
    {
     "data": {
      "text/plain": [
       "(1635590, 75)"
      ]
     },
     "execution_count": 9,
     "metadata": {},
     "output_type": "execute_result"
    }
   ],
   "source": [
    "# shape of the data\n",
    "data_v1.shape"
   ]
  },
  {
   "cell_type": "markdown",
   "id": "152ee824-ae2a-4ea5-bb35-20b3d88fb9bc",
   "metadata": {},
   "source": [
    "## Model 1 - Linear Learner\n",
    "\n",
    "---\n"
   ]
  },
  {
   "cell_type": "code",
   "execution_count": 10,
   "id": "d6df26c3-1af3-44e5-ba71-9a6ca69561bc",
   "metadata": {
    "tags": []
   },
   "outputs": [
    {
     "data": {
      "text/plain": [
       "(1635590, 75)"
      ]
     },
     "execution_count": 10,
     "metadata": {},
     "output_type": "execute_result"
    }
   ],
   "source": [
    "# create a copt of the version 1 data\n",
    "\n",
    "df = data_v1.copy()\n",
    "\n",
    "df.shape"
   ]
  },
  {
   "cell_type": "code",
   "execution_count": 11,
   "id": "7ed7645b",
   "metadata": {
    "tags": []
   },
   "outputs": [
    {
     "data": {
      "text/html": [
       "<div>\n",
       "<style scoped>\n",
       "    .dataframe tbody tr th:only-of-type {\n",
       "        vertical-align: middle;\n",
       "    }\n",
       "\n",
       "    .dataframe tbody tr th {\n",
       "        vertical-align: top;\n",
       "    }\n",
       "\n",
       "    .dataframe thead th {\n",
       "        text-align: right;\n",
       "    }\n",
       "</style>\n",
       "<table border=\"1\" class=\"dataframe\">\n",
       "  <thead>\n",
       "    <tr style=\"text-align: right;\">\n",
       "      <th></th>\n",
       "      <th>target</th>\n",
       "      <th>Distance</th>\n",
       "      <th>Quarter_2</th>\n",
       "      <th>Quarter_3</th>\n",
       "      <th>Quarter_4</th>\n",
       "      <th>Month_2</th>\n",
       "      <th>Month_3</th>\n",
       "      <th>Month_4</th>\n",
       "      <th>Month_5</th>\n",
       "      <th>Month_6</th>\n",
       "      <th>...</th>\n",
       "      <th>Dest_DEN</th>\n",
       "      <th>Dest_DFW</th>\n",
       "      <th>Dest_IAH</th>\n",
       "      <th>Dest_LAX</th>\n",
       "      <th>Dest_ORD</th>\n",
       "      <th>Dest_PHX</th>\n",
       "      <th>Dest_SFO</th>\n",
       "      <th>DepHourofDay_Morning</th>\n",
       "      <th>DepHourofDay_Afternoon</th>\n",
       "      <th>DepHourofDay_Evening</th>\n",
       "    </tr>\n",
       "  </thead>\n",
       "  <tbody>\n",
       "    <tr>\n",
       "      <th>0</th>\n",
       "      <td>0.0</td>\n",
       "      <td>689.0</td>\n",
       "      <td>0</td>\n",
       "      <td>0</td>\n",
       "      <td>0</td>\n",
       "      <td>0</td>\n",
       "      <td>0</td>\n",
       "      <td>0</td>\n",
       "      <td>0</td>\n",
       "      <td>0</td>\n",
       "      <td>...</td>\n",
       "      <td>0</td>\n",
       "      <td>0</td>\n",
       "      <td>1</td>\n",
       "      <td>0</td>\n",
       "      <td>0</td>\n",
       "      <td>0</td>\n",
       "      <td>0</td>\n",
       "      <td>0</td>\n",
       "      <td>0</td>\n",
       "      <td>1</td>\n",
       "    </tr>\n",
       "    <tr>\n",
       "      <th>1</th>\n",
       "      <td>0.0</td>\n",
       "      <td>731.0</td>\n",
       "      <td>0</td>\n",
       "      <td>0</td>\n",
       "      <td>0</td>\n",
       "      <td>0</td>\n",
       "      <td>0</td>\n",
       "      <td>0</td>\n",
       "      <td>0</td>\n",
       "      <td>0</td>\n",
       "      <td>...</td>\n",
       "      <td>0</td>\n",
       "      <td>0</td>\n",
       "      <td>0</td>\n",
       "      <td>0</td>\n",
       "      <td>0</td>\n",
       "      <td>0</td>\n",
       "      <td>0</td>\n",
       "      <td>1</td>\n",
       "      <td>0</td>\n",
       "      <td>0</td>\n",
       "    </tr>\n",
       "    <tr>\n",
       "      <th>2</th>\n",
       "      <td>0.0</td>\n",
       "      <td>1199.0</td>\n",
       "      <td>0</td>\n",
       "      <td>0</td>\n",
       "      <td>0</td>\n",
       "      <td>0</td>\n",
       "      <td>0</td>\n",
       "      <td>0</td>\n",
       "      <td>0</td>\n",
       "      <td>0</td>\n",
       "      <td>...</td>\n",
       "      <td>1</td>\n",
       "      <td>0</td>\n",
       "      <td>0</td>\n",
       "      <td>0</td>\n",
       "      <td>0</td>\n",
       "      <td>0</td>\n",
       "      <td>0</td>\n",
       "      <td>0</td>\n",
       "      <td>0</td>\n",
       "      <td>1</td>\n",
       "    </tr>\n",
       "    <tr>\n",
       "      <th>3</th>\n",
       "      <td>0.0</td>\n",
       "      <td>1587.0</td>\n",
       "      <td>0</td>\n",
       "      <td>0</td>\n",
       "      <td>0</td>\n",
       "      <td>0</td>\n",
       "      <td>0</td>\n",
       "      <td>0</td>\n",
       "      <td>0</td>\n",
       "      <td>0</td>\n",
       "      <td>...</td>\n",
       "      <td>0</td>\n",
       "      <td>0</td>\n",
       "      <td>0</td>\n",
       "      <td>0</td>\n",
       "      <td>0</td>\n",
       "      <td>1</td>\n",
       "      <td>0</td>\n",
       "      <td>0</td>\n",
       "      <td>1</td>\n",
       "      <td>0</td>\n",
       "    </tr>\n",
       "    <tr>\n",
       "      <th>4</th>\n",
       "      <td>0.0</td>\n",
       "      <td>1587.0</td>\n",
       "      <td>0</td>\n",
       "      <td>0</td>\n",
       "      <td>0</td>\n",
       "      <td>0</td>\n",
       "      <td>0</td>\n",
       "      <td>0</td>\n",
       "      <td>0</td>\n",
       "      <td>0</td>\n",
       "      <td>...</td>\n",
       "      <td>0</td>\n",
       "      <td>0</td>\n",
       "      <td>0</td>\n",
       "      <td>0</td>\n",
       "      <td>0</td>\n",
       "      <td>0</td>\n",
       "      <td>0</td>\n",
       "      <td>1</td>\n",
       "      <td>0</td>\n",
       "      <td>0</td>\n",
       "    </tr>\n",
       "  </tbody>\n",
       "</table>\n",
       "<p>5 rows × 75 columns</p>\n",
       "</div>"
      ],
      "text/plain": [
       "   target  Distance  Quarter_2  Quarter_3  Quarter_4  Month_2  Month_3  \\\n",
       "0     0.0     689.0          0          0          0        0        0   \n",
       "1     0.0     731.0          0          0          0        0        0   \n",
       "2     0.0    1199.0          0          0          0        0        0   \n",
       "3     0.0    1587.0          0          0          0        0        0   \n",
       "4     0.0    1587.0          0          0          0        0        0   \n",
       "\n",
       "   Month_4  Month_5  Month_6  ...  Dest_DEN  Dest_DFW  Dest_IAH  Dest_LAX  \\\n",
       "0        0        0        0  ...         0         0         1         0   \n",
       "1        0        0        0  ...         0         0         0         0   \n",
       "2        0        0        0  ...         1         0         0         0   \n",
       "3        0        0        0  ...         0         0         0         0   \n",
       "4        0        0        0  ...         0         0         0         0   \n",
       "\n",
       "   Dest_ORD  Dest_PHX  Dest_SFO  DepHourofDay_Morning  DepHourofDay_Afternoon  \\\n",
       "0         0         0         0                     0                       0   \n",
       "1         0         0         0                     1                       0   \n",
       "2         0         0         0                     0                       0   \n",
       "3         0         1         0                     0                       1   \n",
       "4         0         0         0                     1                       0   \n",
       "\n",
       "   DepHourofDay_Evening  \n",
       "0                     1  \n",
       "1                     0  \n",
       "2                     1  \n",
       "3                     0  \n",
       "4                     0  \n",
       "\n",
       "[5 rows x 75 columns]"
      ]
     },
     "execution_count": 11,
     "metadata": {},
     "output_type": "execute_result"
    }
   ],
   "source": [
    "df_cleaned = df.replace({True: 1, False: 0})\n",
    "\n",
    "df_cleaned.head(5)"
   ]
  },
  {
   "cell_type": "code",
   "execution_count": 12,
   "id": "6497f7a2",
   "metadata": {
    "tags": []
   },
   "outputs": [
    {
     "data": {
      "text/plain": [
       "0"
      ]
     },
     "execution_count": 12,
     "metadata": {},
     "output_type": "execute_result"
    }
   ],
   "source": [
    "df_cleaned.isnull().sum().sum()"
   ]
  },
  {
   "cell_type": "code",
   "execution_count": 13,
   "id": "099f8bb2",
   "metadata": {
    "tags": []
   },
   "outputs": [
    {
     "data": {
      "text/plain": [
       "(1635590, 75)"
      ]
     },
     "execution_count": 13,
     "metadata": {},
     "output_type": "execute_result"
    }
   ],
   "source": [
    "df_cleaned.shape"
   ]
  },
  {
   "cell_type": "code",
   "execution_count": 14,
   "id": "77d9a204-180a-4f88-864f-663294519748",
   "metadata": {
    "tags": []
   },
   "outputs": [],
   "source": [
    "# split the data\n",
    "\n",
    "train, test_and_validate = train_test_split(\n",
    "    df_cleaned, test_size=0.3, random_state=42, stratify=df_cleaned[\"target\"]\n",
    ")\n",
    "test, validate = train_test_split(\n",
    "    test_and_validate,\n",
    "    test_size=0.5,\n",
    "    random_state=42,\n",
    "    stratify=test_and_validate[\"target\"],\n",
    ")"
   ]
  },
  {
   "cell_type": "code",
   "execution_count": 15,
   "id": "22614e30-8eeb-4bb0-a9fe-15e148081456",
   "metadata": {
    "tags": []
   },
   "outputs": [
    {
     "data": {
      "text/plain": [
       "(1144913, 75)"
      ]
     },
     "execution_count": 15,
     "metadata": {},
     "output_type": "execute_result"
    }
   ],
   "source": [
    "# shape of train data\n",
    "train.shape"
   ]
  },
  {
   "cell_type": "code",
   "execution_count": 16,
   "id": "b532fdd2-0ac8-4c97-ad08-b66236a25bf6",
   "metadata": {
    "tags": []
   },
   "outputs": [
    {
     "data": {
      "text/plain": [
       "(245338, 75)"
      ]
     },
     "execution_count": 16,
     "metadata": {},
     "output_type": "execute_result"
    }
   ],
   "source": [
    "# shape of test\n",
    "test.shape"
   ]
  },
  {
   "cell_type": "code",
   "execution_count": 17,
   "id": "89e8e702-b76b-46db-a656-ff632f4c07ad",
   "metadata": {
    "tags": []
   },
   "outputs": [
    {
     "data": {
      "text/plain": [
       "(245339, 75)"
      ]
     },
     "execution_count": 17,
     "metadata": {},
     "output_type": "execute_result"
    }
   ],
   "source": [
    "# shape of validate\n",
    "validate.shape"
   ]
  },
  {
   "cell_type": "code",
   "execution_count": 18,
   "id": "0ce7ed5a-133a-45c7-9a7a-98871bfa43e7",
   "metadata": {
    "tags": []
   },
   "outputs": [],
   "source": [
    "# set the names of the csv files\n",
    "train_file = \"data_v1_train.csv\"\n",
    "test_file = \"data_v1_test.csv\"\n",
    "validate_file = \"data_v1_validate.csv\""
   ]
  },
  {
   "cell_type": "markdown",
   "id": "9b4ed0a9-c30a-43d5-a5c8-2ad6a39c37da",
   "metadata": {},
   "source": [
    "### Upload data to S3 Bucket\n"
   ]
  },
  {
   "cell_type": "code",
   "execution_count": 19,
   "id": "a234663a",
   "metadata": {
    "tags": []
   },
   "outputs": [],
   "source": [
    "import io\n",
    "import numpy as np\n",
    "import sagemaker.amazon.common as smac\n",
    "\n",
    "\n",
    "# prepare data for sagemaker training\n",
    "\n",
    "\n",
    "def prepare_data(dataframe):\n",
    "    vectors = dataframe.drop(columns=[\"target\"]).values.astype(\"float32\")\n",
    "    labels = dataframe[\"target\"].values.astype(\"float32\")\n",
    "    buf = io.BytesIO()\n",
    "    smac.write_numpy_to_dense_tensor(buf, vectors, labels)\n",
    "    buf.seek(0)\n",
    "\n",
    "    return buf"
   ]
  },
  {
   "cell_type": "code",
   "execution_count": 20,
   "id": "60f68561",
   "metadata": {
    "tags": []
   },
   "outputs": [],
   "source": [
    "import boto3\n",
    "import os\n",
    "\n",
    "\n",
    "# upload training data to s3\n",
    "def upload_s3_buf(buf, bucket, prefix, type):\n",
    "    key = \"recordio-pb-data\"\n",
    "    boto3.resource(\"s3\").Bucket(bucket).Object(\n",
    "        os.path.join(prefix, type, key)\n",
    "    ).upload_fileobj(buf)\n",
    "    s3_data_path = \"s3://{}/{}/{}/{}\".format(bucket, prefix, type, key)\n",
    "    print(\"uploaded {} data to location: {}\".format(type, s3_data_path))\n",
    "    return s3_data_path"
   ]
  },
  {
   "cell_type": "code",
   "execution_count": 21,
   "id": "d246e799",
   "metadata": {
    "tags": []
   },
   "outputs": [
    {
     "name": "stdout",
     "output_type": "stream",
     "text": [
      "uploaded train data to location: s3://u3253992-ajulthomas-oncloud/oncloud/train/recordio-pb-data\n"
     ]
    }
   ],
   "source": [
    "# prepare train data\n",
    "train_buf = prepare_data(train)\n",
    "\n",
    "# upload train data\n",
    "s3_train_data = upload_s3_buf(train_buf, bucket, prefix, \"train\")"
   ]
  },
  {
   "cell_type": "code",
   "execution_count": 22,
   "id": "c1790232",
   "metadata": {
    "tags": []
   },
   "outputs": [
    {
     "name": "stdout",
     "output_type": "stream",
     "text": [
      "uploaded validate data to location: s3://u3253992-ajulthomas-oncloud/oncloud/validate/recordio-pb-data\n"
     ]
    }
   ],
   "source": [
    "# prepare validation data\n",
    "validate_buf = prepare_data(validate)\n",
    "\n",
    "# upload validation data\n",
    "s3_validate_data = upload_s3_buf(validate_buf, bucket, prefix, \"validate\")"
   ]
  },
  {
   "cell_type": "code",
   "execution_count": 23,
   "id": "182583e3",
   "metadata": {
    "tags": []
   },
   "outputs": [
    {
     "name": "stdout",
     "output_type": "stream",
     "text": [
      "training artifacts will be uploaded to: s3://u3253992-ajulthomas-oncloud/oncloud/output\n"
     ]
    }
   ],
   "source": [
    "output_location = \"s3://{}/{}/output\".format(bucket, prefix)\n",
    "print(\"training artifacts will be uploaded to: {}\".format(output_location))"
   ]
  },
  {
   "cell_type": "code",
   "execution_count": 24,
   "id": "53b372ff",
   "metadata": {
    "tags": []
   },
   "outputs": [],
   "source": [
    "from sagemaker.image_uris import retrieve\n",
    "\n",
    "# container = retrieve(\"linear-learner\", boto3.Session().region_name)\n",
    "container = retrieve(\"linear-learner\", \"us-east-1\")"
   ]
  },
  {
   "cell_type": "markdown",
   "id": "bcc20351",
   "metadata": {},
   "source": [
    "### Training the model\n"
   ]
  },
  {
   "cell_type": "code",
   "execution_count": 25,
   "id": "5e42b6f3",
   "metadata": {
    "tags": []
   },
   "outputs": [
    {
     "name": "stderr",
     "output_type": "stream",
     "text": [
      "WARNING:sagemaker.deprecations:train_instance_count has been renamed in sagemaker>=2.\n",
      "See: https://sagemaker.readthedocs.io/en/stable/v2.html for details.\n",
      "WARNING:sagemaker.deprecations:train_instance_type has been renamed in sagemaker>=2.\n",
      "See: https://sagemaker.readthedocs.io/en/stable/v2.html for details.\n"
     ]
    },
    {
     "name": "stdout",
     "output_type": "stream",
     "text": [
      "\n",
      "2024-11-03 04:37:36 Starting - Starting the training job.\n",
      "2024-11-03 04:37:50 Starting - Preparing the instances for training....\n",
      "2024-11-03 04:38:13 Downloading - Downloading input data...\n",
      "2024-11-03 04:38:38 Downloading - Downloading the training image.........\n",
      "2024-11-03 04:39:29 Training - Training image download completed. Training in progress.........................................................................\n",
      "2024-11-03 04:45:51 Uploading - Uploading generated training model.\n",
      "2024-11-03 04:46:04 Completed - Training job completed\n"
     ]
    }
   ],
   "source": [
    "import boto3\n",
    "\n",
    "# sess = sagemaker.Session()\n",
    "\n",
    "# Ensure your session is set to the same region as the bucket\n",
    "session = sagemaker.Session(boto3.session.Session(region_name=\"us-east-1\"))\n",
    "\n",
    "# Get the execution role\n",
    "role = sagemaker.get_execution_role()\n",
    "\n",
    "linear = sagemaker.estimator.Estimator(\n",
    "    container,\n",
    "    role,\n",
    "    train_instance_count=1,\n",
    "    train_instance_type=\"ml.c5.2xlarge\",\n",
    "    output_path=output_location,\n",
    "    sagemaker_session=session,\n",
    ")\n",
    "linear.set_hyperparameters(feature_dim=74, predictor_type=\"binary_classifier\")\n",
    "\n",
    "linear.fit({\"train\": s3_train_data, \"validation\": s3_validate_data}, logs=False)"
   ]
  },
  {
   "cell_type": "markdown",
   "id": "65aef591",
   "metadata": {},
   "source": [
    "#### Preparing the test data for prediction\n"
   ]
  },
  {
   "cell_type": "code",
   "execution_count": 26,
   "id": "b4176a2b-a42f-40a9-870f-2959bc09bb51",
   "metadata": {
    "tags": []
   },
   "outputs": [
    {
     "name": "stdout",
     "output_type": "stream",
     "text": [
      "s3.Bucket(name='u3253992-ajulthomas-oncloud')\n"
     ]
    }
   ],
   "source": [
    "import boto3\n",
    "import pandas as pd\n",
    "import io\n",
    "\n",
    "# Prepare the input data for batch prediction\n",
    "batch_X_linear = test.iloc[:, 1:]\n",
    "batch_X_file_linear = \"batch-in-linear.csv\"\n",
    "\n",
    "# Upload the CSV to S3\n",
    "upload_s3_csv(batch_X_file_linear, \"batch-in-linear\", batch_X_linear)\n",
    "\n",
    "# Define the S3 paths\n",
    "batch_output = \"s3://{}/{}/batch-out-linear/\".format(bucket, prefix)\n",
    "batch_input = \"s3://{}/{}/batch-in-linear/{}\".format(\n",
    "    bucket, prefix, batch_X_file_linear\n",
    ")"
   ]
  },
  {
   "cell_type": "markdown",
   "id": "5ec0f7c8",
   "metadata": {},
   "source": [
    "#### Using Transformers to predict the results\n"
   ]
  },
  {
   "cell_type": "code",
   "execution_count": 27,
   "id": "4933735e-6252-423e-b267-5af0ee1d0a50",
   "metadata": {
    "tags": []
   },
   "outputs": [
    {
     "name": "stdout",
     "output_type": "stream",
     "text": [
      "..........................................................................!\n",
      "\u001b[32m2024-11-03T04:52:54.065:[sagemaker logs]: MaxConcurrentTransforms=16, MaxPayloadInMB=6, BatchStrategy=MULTI_RECORD\u001b[0m\n",
      "\u001b[34mDocker entrypoint called with argument(s): serve\u001b[0m\n",
      "\u001b[34mRunning default environment configuration script\u001b[0m\n",
      "\u001b[34m[11/03/2024 04:52:50 INFO 140497836922688] Memory profiler is not enabled by the environment variable ENABLE_PROFILER.\u001b[0m\n",
      "\u001b[34m/opt/amazon/lib/python3.8/site-packages/mxnet/model.py:97: SyntaxWarning: \"is\" with a literal. Did you mean \"==\"?\n",
      "  if num_device is 1 and 'dist' not in kvstore:\u001b[0m\n",
      "\u001b[34m/opt/amazon/lib/python3.8/site-packages/scipy/optimize/_shgo.py:495: SyntaxWarning: \"is\" with a literal. Did you mean \"==\"?\n",
      "  if cons['type'] is 'ineq':\u001b[0m\n",
      "\u001b[34m/opt/amazon/lib/python3.8/site-packages/scipy/optimize/_shgo.py:743: SyntaxWarning: \"is not\" with a literal. Did you mean \"!=\"?\n",
      "  if len(self.X_min) is not 0:\u001b[0m\n",
      "\u001b[34m[11/03/2024 04:52:53 WARNING 140497836922688] Loggers have already been setup.\u001b[0m\n",
      "\u001b[34m[11/03/2024 04:52:53 INFO 140497836922688] loaded entry point class algorithm.serve.server_config:config_api\u001b[0m\n",
      "\u001b[34m[11/03/2024 04:52:53 INFO 140497836922688] loading entry points\u001b[0m\n",
      "\u001b[34m[11/03/2024 04:52:53 INFO 140497836922688] loaded request iterator application/json\u001b[0m\n",
      "\u001b[34m[11/03/2024 04:52:53 INFO 140497836922688] loaded request iterator application/jsonlines\u001b[0m\n",
      "\u001b[34m[11/03/2024 04:52:53 INFO 140497836922688] loaded request iterator application/x-recordio-protobuf\u001b[0m\n",
      "\u001b[34m[11/03/2024 04:52:53 INFO 140497836922688] loaded request iterator text/csv\u001b[0m\n",
      "\u001b[34m[11/03/2024 04:52:53 INFO 140497836922688] loaded response encoder application/json\u001b[0m\n",
      "\u001b[34m[11/03/2024 04:52:53 INFO 140497836922688] loaded response encoder application/jsonlines\u001b[0m\n",
      "\u001b[34m[11/03/2024 04:52:53 INFO 140497836922688] loaded response encoder application/x-recordio-protobuf\u001b[0m\n",
      "\u001b[34m[11/03/2024 04:52:53 INFO 140497836922688] loaded response encoder text/csv\u001b[0m\n",
      "\u001b[34m[11/03/2024 04:52:53 INFO 140497836922688] loaded entry point class algorithm:model\u001b[0m\n",
      "\u001b[34m[11/03/2024 04:52:53 INFO 140497836922688] Number of server workers: 16\u001b[0m\n",
      "\u001b[34m[11/03/2024 04:52:53 INFO 140497836922688] loading model...\u001b[0m\n",
      "\u001b[34m[11/03/2024 04:52:53 INFO 140497836922688] ...model loaded.\u001b[0m\n",
      "\u001b[34m[2024-11-03 04:52:53 +0000] [1] [INFO] Starting gunicorn 20.1.0\u001b[0m\n",
      "\u001b[34m[2024-11-03 04:52:53 +0000] [1] [INFO] Listening at: http://0.0.0.0:8080 (1)\u001b[0m\n",
      "\u001b[34m[2024-11-03 04:52:53 +0000] [1] [INFO] Using worker: sync\u001b[0m\n",
      "\u001b[34m[2024-11-03 04:52:53 +0000] [61] [INFO] Booting worker with pid: 61\u001b[0m\n",
      "\u001b[34m[2024-11-03 04:52:53 +0000] [70] [INFO] Booting worker with pid: 70\u001b[0m\n",
      "\u001b[34m[2024-11-03 04:52:53 +0000] [79] [INFO] Booting worker with pid: 79\u001b[0m\n",
      "\u001b[35mDocker entrypoint called with argument(s): serve\u001b[0m\n",
      "\u001b[35mRunning default environment configuration script\u001b[0m\n",
      "\u001b[35m[11/03/2024 04:52:50 INFO 140497836922688] Memory profiler is not enabled by the environment variable ENABLE_PROFILER.\u001b[0m\n",
      "\u001b[35m/opt/amazon/lib/python3.8/site-packages/mxnet/model.py:97: SyntaxWarning: \"is\" with a literal. Did you mean \"==\"?\n",
      "  if num_device is 1 and 'dist' not in kvstore:\u001b[0m\n",
      "\u001b[35m/opt/amazon/lib/python3.8/site-packages/scipy/optimize/_shgo.py:495: SyntaxWarning: \"is\" with a literal. Did you mean \"==\"?\n",
      "  if cons['type'] is 'ineq':\u001b[0m\n",
      "\u001b[35m/opt/amazon/lib/python3.8/site-packages/scipy/optimize/_shgo.py:743: SyntaxWarning: \"is not\" with a literal. Did you mean \"!=\"?\n",
      "  if len(self.X_min) is not 0:\u001b[0m\n",
      "\u001b[35m[11/03/2024 04:52:53 WARNING 140497836922688] Loggers have already been setup.\u001b[0m\n",
      "\u001b[35m[11/03/2024 04:52:53 INFO 140497836922688] loaded entry point class algorithm.serve.server_config:config_api\u001b[0m\n",
      "\u001b[35m[11/03/2024 04:52:53 INFO 140497836922688] loading entry points\u001b[0m\n",
      "\u001b[35m[11/03/2024 04:52:53 INFO 140497836922688] loaded request iterator application/json\u001b[0m\n",
      "\u001b[35m[11/03/2024 04:52:53 INFO 140497836922688] loaded request iterator application/jsonlines\u001b[0m\n",
      "\u001b[35m[11/03/2024 04:52:53 INFO 140497836922688] loaded request iterator application/x-recordio-protobuf\u001b[0m\n",
      "\u001b[35m[11/03/2024 04:52:53 INFO 140497836922688] loaded request iterator text/csv\u001b[0m\n",
      "\u001b[35m[11/03/2024 04:52:53 INFO 140497836922688] loaded response encoder application/json\u001b[0m\n",
      "\u001b[35m[11/03/2024 04:52:53 INFO 140497836922688] loaded response encoder application/jsonlines\u001b[0m\n",
      "\u001b[35m[11/03/2024 04:52:53 INFO 140497836922688] loaded response encoder application/x-recordio-protobuf\u001b[0m\n",
      "\u001b[35m[11/03/2024 04:52:53 INFO 140497836922688] loaded response encoder text/csv\u001b[0m\n",
      "\u001b[35m[11/03/2024 04:52:53 INFO 140497836922688] loaded entry point class algorithm:model\u001b[0m\n",
      "\u001b[35m[11/03/2024 04:52:53 INFO 140497836922688] Number of server workers: 16\u001b[0m\n",
      "\u001b[35m[11/03/2024 04:52:53 INFO 140497836922688] loading model...\u001b[0m\n",
      "\u001b[35m[11/03/2024 04:52:53 INFO 140497836922688] ...model loaded.\u001b[0m\n",
      "\u001b[35m[2024-11-03 04:52:53 +0000] [1] [INFO] Starting gunicorn 20.1.0\u001b[0m\n",
      "\u001b[35m[2024-11-03 04:52:53 +0000] [1] [INFO] Listening at: http://0.0.0.0:8080 (1)\u001b[0m\n",
      "\u001b[35m[2024-11-03 04:52:53 +0000] [1] [INFO] Using worker: sync\u001b[0m\n",
      "\u001b[35m[2024-11-03 04:52:53 +0000] [61] [INFO] Booting worker with pid: 61\u001b[0m\n",
      "\u001b[35m[2024-11-03 04:52:53 +0000] [70] [INFO] Booting worker with pid: 70\u001b[0m\n",
      "\u001b[35m[2024-11-03 04:52:53 +0000] [79] [INFO] Booting worker with pid: 79\u001b[0m\n",
      "\u001b[34m[2024-11-03 04:52:53 +0000] [88] [INFO] Booting worker with pid: 88\u001b[0m\n",
      "\u001b[34m[2024-11-03 04:52:53 +0000] [97] [INFO] Booting worker with pid: 97\u001b[0m\n",
      "\u001b[34m[2024-11-03 04:52:53 +0000] [106] [INFO] Booting worker with pid: 106\u001b[0m\n",
      "\u001b[34m[2024-11-03 04:52:53 +0000] [115] [INFO] Booting worker with pid: 115\u001b[0m\n",
      "\u001b[34m[2024-11-03 04:52:54 +0000] [124] [INFO] Booting worker with pid: 124\u001b[0m\n",
      "\u001b[34m#metrics {\"StartTime\": 1730609573.5946927, \"EndTime\": 1730609574.0619845, \"Dimensions\": {\"Algorithm\": \"LinearLearnerModel\", \"Host\": \"UNKNOWN\", \"Operation\": \"scoring\"}, \"Metrics\": {\"execution_parameters.count\": {\"sum\": 1.0, \"count\": 1, \"min\": 1, \"max\": 1}}}\u001b[0m\n",
      "\u001b[34m[2024-11-03 04:52:54 +0000] [133] [INFO] Booting worker with pid: 133\u001b[0m\n",
      "\u001b[34m[2024-11-03 04:52:54 +0000] [142] [INFO] Booting worker with pid: 142\u001b[0m\n",
      "\u001b[34m[2024-11-03 04:52:54 +0000] [151] [INFO] Booting worker with pid: 151\u001b[0m\n",
      "\u001b[34m[2024-11-03 04:52:54 +0000] [160] [INFO] Booting worker with pid: 160\u001b[0m\n",
      "\u001b[34m[2024-11-03 04:52:54 +0000] [169] [INFO] Booting worker with pid: 169\u001b[0m\n",
      "\u001b[34m[2024-11-03 04:52:54 +0000] [178] [INFO] Booting worker with pid: 178\u001b[0m\n",
      "\u001b[34m[2024-11-03 04:52:54 +0000] [187] [INFO] Booting worker with pid: 187\u001b[0m\n",
      "\u001b[34m[2024-11-03 04:52:54 +0000] [196] [INFO] Booting worker with pid: 196\u001b[0m\n",
      "\u001b[35m[2024-11-03 04:52:53 +0000] [88] [INFO] Booting worker with pid: 88\u001b[0m\n",
      "\u001b[35m[2024-11-03 04:52:53 +0000] [97] [INFO] Booting worker with pid: 97\u001b[0m\n",
      "\u001b[35m[2024-11-03 04:52:53 +0000] [106] [INFO] Booting worker with pid: 106\u001b[0m\n",
      "\u001b[35m[2024-11-03 04:52:53 +0000] [115] [INFO] Booting worker with pid: 115\u001b[0m\n",
      "\u001b[35m[2024-11-03 04:52:54 +0000] [124] [INFO] Booting worker with pid: 124\u001b[0m\n",
      "\u001b[35m#metrics {\"StartTime\": 1730609573.5946927, \"EndTime\": 1730609574.0619845, \"Dimensions\": {\"Algorithm\": \"LinearLearnerModel\", \"Host\": \"UNKNOWN\", \"Operation\": \"scoring\"}, \"Metrics\": {\"execution_parameters.count\": {\"sum\": 1.0, \"count\": 1, \"min\": 1, \"max\": 1}}}\u001b[0m\n",
      "\u001b[35m[2024-11-03 04:52:54 +0000] [133] [INFO] Booting worker with pid: 133\u001b[0m\n",
      "\u001b[35m[2024-11-03 04:52:54 +0000] [142] [INFO] Booting worker with pid: 142\u001b[0m\n",
      "\u001b[35m[2024-11-03 04:52:54 +0000] [151] [INFO] Booting worker with pid: 151\u001b[0m\n",
      "\u001b[35m[2024-11-03 04:52:54 +0000] [160] [INFO] Booting worker with pid: 160\u001b[0m\n",
      "\u001b[35m[2024-11-03 04:52:54 +0000] [169] [INFO] Booting worker with pid: 169\u001b[0m\n",
      "\u001b[35m[2024-11-03 04:52:54 +0000] [178] [INFO] Booting worker with pid: 178\u001b[0m\n",
      "\u001b[35m[2024-11-03 04:52:54 +0000] [187] [INFO] Booting worker with pid: 187\u001b[0m\n",
      "\u001b[35m[2024-11-03 04:52:54 +0000] [196] [INFO] Booting worker with pid: 196\u001b[0m\n",
      "\u001b[34m#metrics {\"StartTime\": 1730609573.5946927, \"EndTime\": 1730609575.3463864, \"Dimensions\": {\"Algorithm\": \"LinearLearnerModel\", \"Host\": \"UNKNOWN\", \"Operation\": \"scoring\"}, \"Metrics\": {\"json.encoder.time\": {\"sum\": 72.10254669189453, \"count\": 1, \"min\": 72.10254669189453, \"max\": 72.10254669189453}, \"invocations.count\": {\"sum\": 1.0, \"count\": 1, \"min\": 1, \"max\": 1}}}\u001b[0m\n",
      "\u001b[34m#metrics {\"StartTime\": 1730609573.5946927, \"EndTime\": 1730609575.3587868, \"Dimensions\": {\"Algorithm\": \"LinearLearnerModel\", \"Host\": \"UNKNOWN\", \"Operation\": \"scoring\"}, \"Metrics\": {\"json.encoder.time\": {\"sum\": 68.25709342956543, \"count\": 1, \"min\": 68.25709342956543, \"max\": 68.25709342956543}, \"invocations.count\": {\"sum\": 1.0, \"count\": 1, \"min\": 1, \"max\": 1}}}\u001b[0m\n",
      "\u001b[34m#metrics {\"StartTime\": 1730609573.5946927, \"EndTime\": 1730609575.4007783, \"Dimensions\": {\"Algorithm\": \"LinearLearnerModel\", \"Host\": \"UNKNOWN\", \"Operation\": \"scoring\"}, \"Metrics\": {\"json.encoder.time\": {\"sum\": 63.81535530090332, \"count\": 1, \"min\": 63.81535530090332, \"max\": 63.81535530090332}, \"invocations.count\": {\"sum\": 1.0, \"count\": 1, \"min\": 1, \"max\": 1}}}\u001b[0m\n",
      "\u001b[34m#metrics {\"StartTime\": 1730609573.5946927, \"EndTime\": 1730609575.4227679, \"Dimensions\": {\"Algorithm\": \"LinearLearnerModel\", \"Host\": \"UNKNOWN\", \"Operation\": \"scoring\"}, \"Metrics\": {\"json.encoder.time\": {\"sum\": 60.62006950378418, \"count\": 1, \"min\": 60.62006950378418, \"max\": 60.62006950378418}, \"invocations.count\": {\"sum\": 1.0, \"count\": 1, \"min\": 1, \"max\": 1}}}\u001b[0m\n",
      "\u001b[34m#metrics {\"StartTime\": 1730609573.5946927, \"EndTime\": 1730609575.4315746, \"Dimensions\": {\"Algorithm\": \"LinearLearnerModel\", \"Host\": \"UNKNOWN\", \"Operation\": \"scoring\"}, \"Metrics\": {\"json.encoder.time\": {\"sum\": 65.09685516357422, \"count\": 1, \"min\": 65.09685516357422, \"max\": 65.09685516357422}, \"invocations.count\": {\"sum\": 1.0, \"count\": 1, \"min\": 1, \"max\": 1}}}\u001b[0m\n",
      "\u001b[34m#metrics {\"StartTime\": 1730609573.5946927, \"EndTime\": 1730609575.4340649, \"Dimensions\": {\"Algorithm\": \"LinearLearnerModel\", \"Host\": \"UNKNOWN\", \"Operation\": \"scoring\"}, \"Metrics\": {\"json.encoder.time\": {\"sum\": 64.64672088623047, \"count\": 1, \"min\": 64.64672088623047, \"max\": 64.64672088623047}, \"invocations.count\": {\"sum\": 1.0, \"count\": 1, \"min\": 1, \"max\": 1}}}\u001b[0m\n",
      "\u001b[35m#metrics {\"StartTime\": 1730609573.5946927, \"EndTime\": 1730609575.3463864, \"Dimensions\": {\"Algorithm\": \"LinearLearnerModel\", \"Host\": \"UNKNOWN\", \"Operation\": \"scoring\"}, \"Metrics\": {\"json.encoder.time\": {\"sum\": 72.10254669189453, \"count\": 1, \"min\": 72.10254669189453, \"max\": 72.10254669189453}, \"invocations.count\": {\"sum\": 1.0, \"count\": 1, \"min\": 1, \"max\": 1}}}\u001b[0m\n",
      "\u001b[35m#metrics {\"StartTime\": 1730609573.5946927, \"EndTime\": 1730609575.3587868, \"Dimensions\": {\"Algorithm\": \"LinearLearnerModel\", \"Host\": \"UNKNOWN\", \"Operation\": \"scoring\"}, \"Metrics\": {\"json.encoder.time\": {\"sum\": 68.25709342956543, \"count\": 1, \"min\": 68.25709342956543, \"max\": 68.25709342956543}, \"invocations.count\": {\"sum\": 1.0, \"count\": 1, \"min\": 1, \"max\": 1}}}\u001b[0m\n",
      "\u001b[35m#metrics {\"StartTime\": 1730609573.5946927, \"EndTime\": 1730609575.4007783, \"Dimensions\": {\"Algorithm\": \"LinearLearnerModel\", \"Host\": \"UNKNOWN\", \"Operation\": \"scoring\"}, \"Metrics\": {\"json.encoder.time\": {\"sum\": 63.81535530090332, \"count\": 1, \"min\": 63.81535530090332, \"max\": 63.81535530090332}, \"invocations.count\": {\"sum\": 1.0, \"count\": 1, \"min\": 1, \"max\": 1}}}\u001b[0m\n",
      "\u001b[35m#metrics {\"StartTime\": 1730609573.5946927, \"EndTime\": 1730609575.4227679, \"Dimensions\": {\"Algorithm\": \"LinearLearnerModel\", \"Host\": \"UNKNOWN\", \"Operation\": \"scoring\"}, \"Metrics\": {\"json.encoder.time\": {\"sum\": 60.62006950378418, \"count\": 1, \"min\": 60.62006950378418, \"max\": 60.62006950378418}, \"invocations.count\": {\"sum\": 1.0, \"count\": 1, \"min\": 1, \"max\": 1}}}\u001b[0m\n",
      "\u001b[35m#metrics {\"StartTime\": 1730609573.5946927, \"EndTime\": 1730609575.4315746, \"Dimensions\": {\"Algorithm\": \"LinearLearnerModel\", \"Host\": \"UNKNOWN\", \"Operation\": \"scoring\"}, \"Metrics\": {\"json.encoder.time\": {\"sum\": 65.09685516357422, \"count\": 1, \"min\": 65.09685516357422, \"max\": 65.09685516357422}, \"invocations.count\": {\"sum\": 1.0, \"count\": 1, \"min\": 1, \"max\": 1}}}\u001b[0m\n",
      "\u001b[35m#metrics {\"StartTime\": 1730609573.5946927, \"EndTime\": 1730609575.4340649, \"Dimensions\": {\"Algorithm\": \"LinearLearnerModel\", \"Host\": \"UNKNOWN\", \"Operation\": \"scoring\"}, \"Metrics\": {\"json.encoder.time\": {\"sum\": 64.64672088623047, \"count\": 1, \"min\": 64.64672088623047, \"max\": 64.64672088623047}, \"invocations.count\": {\"sum\": 1.0, \"count\": 1, \"min\": 1, \"max\": 1}}}\u001b[0m\n"
     ]
    }
   ],
   "source": [
    "# Create the transformer for the Linear Learner model\n",
    "linear_transformer = linear.transformer(\n",
    "    instance_count=1,\n",
    "    instance_type=\"ml.c5.4xlarge\",\n",
    "    strategy=\"MultiRecord\",\n",
    "    assemble_with=\"Line\",\n",
    "    output_path=batch_output,\n",
    ")\n",
    "\n",
    "# Start the batch transform job\n",
    "linear_transformer.transform(\n",
    "    data=batch_input,\n",
    "    data_type=\"S3Prefix\",\n",
    "    content_type=\"text/csv\",\n",
    "    split_type=\"Line\",\n",
    "    logs=False,\n",
    ")\n",
    "\n",
    "linear_transformer.wait()"
   ]
  },
  {
   "cell_type": "markdown",
   "id": "b237d1ff",
   "metadata": {},
   "source": [
    "#### Fetching and parsing the results\n"
   ]
  },
  {
   "cell_type": "code",
   "execution_count": 28,
   "id": "89b44200-d7d8-40b6-82f4-0ee8be6f0bc0",
   "metadata": {
    "tags": []
   },
   "outputs": [
    {
     "data": {
      "text/html": [
       "<div>\n",
       "<style scoped>\n",
       "    .dataframe tbody tr th:only-of-type {\n",
       "        vertical-align: middle;\n",
       "    }\n",
       "\n",
       "    .dataframe tbody tr th {\n",
       "        vertical-align: top;\n",
       "    }\n",
       "\n",
       "    .dataframe thead th {\n",
       "        text-align: right;\n",
       "    }\n",
       "</style>\n",
       "<table border=\"1\" class=\"dataframe\">\n",
       "  <thead>\n",
       "    <tr style=\"text-align: right;\">\n",
       "      <th></th>\n",
       "      <th>class</th>\n",
       "    </tr>\n",
       "  </thead>\n",
       "  <tbody>\n",
       "    <tr>\n",
       "      <th>{\"predicted_label\":0</th>\n",
       "      <td>score:0.202265635132789}</td>\n",
       "    </tr>\n",
       "    <tr>\n",
       "      <th>{\"predicted_label\":0</th>\n",
       "      <td>score:0.203295961022377}</td>\n",
       "    </tr>\n",
       "    <tr>\n",
       "      <th>{\"predicted_label\":0</th>\n",
       "      <td>score:0.188853040337562}</td>\n",
       "    </tr>\n",
       "    <tr>\n",
       "      <th>{\"predicted_label\":0</th>\n",
       "      <td>score:0.200587853789329}</td>\n",
       "    </tr>\n",
       "    <tr>\n",
       "      <th>{\"predicted_label\":0</th>\n",
       "      <td>score:0.203493908047676}</td>\n",
       "    </tr>\n",
       "  </tbody>\n",
       "</table>\n",
       "</div>"
      ],
      "text/plain": [
       "                                         class\n",
       "{\"predicted_label\":0  score:0.202265635132789}\n",
       "{\"predicted_label\":0  score:0.203295961022377}\n",
       "{\"predicted_label\":0  score:0.188853040337562}\n",
       "{\"predicted_label\":0  score:0.200587853789329}\n",
       "{\"predicted_label\":0  score:0.203493908047676}"
      ]
     },
     "execution_count": 28,
     "metadata": {},
     "output_type": "execute_result"
    }
   ],
   "source": [
    "# Fetch and read the output from S3\n",
    "s3 = boto3.client(\"s3\")\n",
    "obj = s3.get_object(\n",
    "    Bucket=bucket,\n",
    "    Key=\"{}/batch-out-linear/{}\".format(prefix, \"batch-in-linear.csv.out\"),\n",
    ")\n",
    "target_predicted = pd.read_csv(\n",
    "    io.BytesIO(obj[\"Body\"].read()), header=None, names=[\"class\"]\n",
    ")\n",
    "\n",
    "# Print or further process the predictions\n",
    "target_predicted.head(5)"
   ]
  },
  {
   "cell_type": "code",
   "execution_count": 29,
   "id": "cb6a2d73-eedd-4e63-801a-7b9a92fe65cb",
   "metadata": {
    "tags": []
   },
   "outputs": [
    {
     "data": {
      "text/plain": [
       "'0'"
      ]
     },
     "execution_count": 29,
     "metadata": {},
     "output_type": "execute_result"
    }
   ],
   "source": [
    "predictions = target_predicted.index\n",
    "predictions[0][-1]"
   ]
  },
  {
   "cell_type": "code",
   "execution_count": 30,
   "id": "d5eafcd6-130d-4de1-b031-ea4d29c93fdc",
   "metadata": {
    "tags": []
   },
   "outputs": [
    {
     "data": {
      "text/plain": [
       "'0.202265635132789'"
      ]
     },
     "execution_count": 30,
     "metadata": {},
     "output_type": "execute_result"
    }
   ],
   "source": [
    "target_predicted.iloc[0, 0][6:-1]"
   ]
  },
  {
   "cell_type": "code",
   "execution_count": 31,
   "id": "cf207cd9-ef2a-4684-abb0-95b0240a4bc5",
   "metadata": {
    "tags": []
   },
   "outputs": [],
   "source": [
    "predictions = target_predicted.index\n",
    "prediction_labels = [prediction[-1] for prediction in predictions]\n",
    "# prediction_label"
   ]
  },
  {
   "cell_type": "code",
   "execution_count": 32,
   "id": "601c08c3-4c6f-4b15-b015-ef0c06114eac",
   "metadata": {
    "tags": []
   },
   "outputs": [],
   "source": [
    "prediction_scores = [row[0][6:-1] for row in target_predicted.itertuples(index=False)]\n",
    "# prediction_scores"
   ]
  },
  {
   "cell_type": "code",
   "execution_count": 33,
   "id": "a9f6cdb8-04fa-4d6e-b402-87e3b25cdfb5",
   "metadata": {
    "tags": []
   },
   "outputs": [],
   "source": [
    "import pandas as pd\n",
    "\n",
    "# Convert prediction_scores and prediction_labels to numeric\n",
    "prediction_scores = pd.to_numeric(prediction_scores)\n",
    "prediction_labels = pd.to_numeric(prediction_labels)"
   ]
  },
  {
   "cell_type": "code",
   "execution_count": 34,
   "id": "5ff89118-d70d-445a-9f93-2bb108332446",
   "metadata": {
    "tags": []
   },
   "outputs": [
    {
     "data": {
      "text/plain": [
       "245338"
      ]
     },
     "execution_count": 34,
     "metadata": {},
     "output_type": "execute_result"
    }
   ],
   "source": [
    "len(prediction_scores)"
   ]
  },
  {
   "cell_type": "code",
   "execution_count": 35,
   "id": "e726e86e-d957-40c9-83c0-ca49f4ff5593",
   "metadata": {
    "tags": []
   },
   "outputs": [
    {
     "data": {
      "text/plain": [
       "245338"
      ]
     },
     "execution_count": 35,
     "metadata": {},
     "output_type": "execute_result"
    }
   ],
   "source": [
    "len(prediction_labels)"
   ]
  },
  {
   "cell_type": "markdown",
   "id": "c612474b",
   "metadata": {},
   "source": [
    "### Results\n"
   ]
  },
  {
   "cell_type": "code",
   "execution_count": 38,
   "id": "e570f879",
   "metadata": {
    "tags": []
   },
   "outputs": [
    {
     "data": {
      "image/png": "[encoded data removed]",
      "text/plain": [
       "<Figure size 640x480 with 2 Axes>"
      ]
     },
     "metadata": {},
     "output_type": "display_data"
    }
   ],
   "source": [
    "# Confusion matrix for test data\n",
    "plot_confusion_matrix(test.iloc[:, 0], prediction_labels)"
   ]
  },
  {
   "cell_type": "code",
   "execution_count": 39,
   "id": "0e1f8c37",
   "metadata": {
    "tags": []
   },
   "outputs": [
    {
     "name": "stdout",
     "output_type": "stream",
     "text": [
      "Classification Report on Test Data\n",
      "              precision    recall  f1-score   support\n",
      "\n",
      "         0.0       0.79      1.00      0.88    193838\n",
      "         1.0       0.53      0.01      0.01     51500\n",
      "\n",
      "    accuracy                           0.79    245338\n",
      "   macro avg       0.66      0.50      0.45    245338\n",
      "weighted avg       0.74      0.79      0.70    245338\n",
      "\n"
     ]
    }
   ],
   "source": [
    "# classification report\n",
    "from sklearn.metrics import classification_report\n",
    "\n",
    "# Classification report for test data\n",
    "print(\"Classification Report on Test Data\")\n",
    "print(classification_report(test.iloc[:, 0], prediction_labels))"
   ]
  },
  {
   "cell_type": "markdown",
   "id": "c0460a26",
   "metadata": {},
   "source": [
    "### Observations and Insights\n"
   ]
  },
  {
   "cell_type": "markdown",
   "id": "083722ba-4d5e-4162-b663-d66133bd7807",
   "metadata": {},
   "source": [
    "## Model 2 - Ensemble Model\n",
    "\n",
    "---\n"
   ]
  },
  {
   "cell_type": "markdown",
   "id": "2f830b7a",
   "metadata": {},
   "source": [
    "### Loading Data\n"
   ]
  },
  {
   "cell_type": "code",
   "execution_count": 40,
   "id": "6b1fb1ad-240d-4f85-af1a-dcc2004ac604",
   "metadata": {
    "tags": []
   },
   "outputs": [
    {
     "data": {
      "text/plain": [
       "(1635590, 75)"
      ]
     },
     "execution_count": 40,
     "metadata": {},
     "output_type": "execute_result"
    }
   ],
   "source": [
    "df_ensemble = data_v1.copy()\n",
    "\n",
    "df_ensemble.shape"
   ]
  },
  {
   "cell_type": "code",
   "execution_count": 41,
   "id": "194c8924-7acf-4d2d-89e4-c73757a0406f",
   "metadata": {
    "tags": []
   },
   "outputs": [
    {
     "data": {
      "text/html": [
       "<div>\n",
       "<style scoped>\n",
       "    .dataframe tbody tr th:only-of-type {\n",
       "        vertical-align: middle;\n",
       "    }\n",
       "\n",
       "    .dataframe tbody tr th {\n",
       "        vertical-align: top;\n",
       "    }\n",
       "\n",
       "    .dataframe thead th {\n",
       "        text-align: right;\n",
       "    }\n",
       "</style>\n",
       "<table border=\"1\" class=\"dataframe\">\n",
       "  <thead>\n",
       "    <tr style=\"text-align: right;\">\n",
       "      <th></th>\n",
       "      <th>target</th>\n",
       "      <th>Distance</th>\n",
       "      <th>Quarter_2</th>\n",
       "      <th>Quarter_3</th>\n",
       "      <th>Quarter_4</th>\n",
       "      <th>Month_2</th>\n",
       "      <th>Month_3</th>\n",
       "      <th>Month_4</th>\n",
       "      <th>Month_5</th>\n",
       "      <th>Month_6</th>\n",
       "      <th>...</th>\n",
       "      <th>Dest_DEN</th>\n",
       "      <th>Dest_DFW</th>\n",
       "      <th>Dest_IAH</th>\n",
       "      <th>Dest_LAX</th>\n",
       "      <th>Dest_ORD</th>\n",
       "      <th>Dest_PHX</th>\n",
       "      <th>Dest_SFO</th>\n",
       "      <th>DepHourofDay_Morning</th>\n",
       "      <th>DepHourofDay_Afternoon</th>\n",
       "      <th>DepHourofDay_Evening</th>\n",
       "    </tr>\n",
       "  </thead>\n",
       "  <tbody>\n",
       "    <tr>\n",
       "      <th>0</th>\n",
       "      <td>0.0</td>\n",
       "      <td>689.0</td>\n",
       "      <td>0</td>\n",
       "      <td>0</td>\n",
       "      <td>0</td>\n",
       "      <td>0</td>\n",
       "      <td>0</td>\n",
       "      <td>0</td>\n",
       "      <td>0</td>\n",
       "      <td>0</td>\n",
       "      <td>...</td>\n",
       "      <td>0</td>\n",
       "      <td>0</td>\n",
       "      <td>1</td>\n",
       "      <td>0</td>\n",
       "      <td>0</td>\n",
       "      <td>0</td>\n",
       "      <td>0</td>\n",
       "      <td>0</td>\n",
       "      <td>0</td>\n",
       "      <td>1</td>\n",
       "    </tr>\n",
       "    <tr>\n",
       "      <th>1</th>\n",
       "      <td>0.0</td>\n",
       "      <td>731.0</td>\n",
       "      <td>0</td>\n",
       "      <td>0</td>\n",
       "      <td>0</td>\n",
       "      <td>0</td>\n",
       "      <td>0</td>\n",
       "      <td>0</td>\n",
       "      <td>0</td>\n",
       "      <td>0</td>\n",
       "      <td>...</td>\n",
       "      <td>0</td>\n",
       "      <td>0</td>\n",
       "      <td>0</td>\n",
       "      <td>0</td>\n",
       "      <td>0</td>\n",
       "      <td>0</td>\n",
       "      <td>0</td>\n",
       "      <td>1</td>\n",
       "      <td>0</td>\n",
       "      <td>0</td>\n",
       "    </tr>\n",
       "    <tr>\n",
       "      <th>2</th>\n",
       "      <td>0.0</td>\n",
       "      <td>1199.0</td>\n",
       "      <td>0</td>\n",
       "      <td>0</td>\n",
       "      <td>0</td>\n",
       "      <td>0</td>\n",
       "      <td>0</td>\n",
       "      <td>0</td>\n",
       "      <td>0</td>\n",
       "      <td>0</td>\n",
       "      <td>...</td>\n",
       "      <td>1</td>\n",
       "      <td>0</td>\n",
       "      <td>0</td>\n",
       "      <td>0</td>\n",
       "      <td>0</td>\n",
       "      <td>0</td>\n",
       "      <td>0</td>\n",
       "      <td>0</td>\n",
       "      <td>0</td>\n",
       "      <td>1</td>\n",
       "    </tr>\n",
       "    <tr>\n",
       "      <th>3</th>\n",
       "      <td>0.0</td>\n",
       "      <td>1587.0</td>\n",
       "      <td>0</td>\n",
       "      <td>0</td>\n",
       "      <td>0</td>\n",
       "      <td>0</td>\n",
       "      <td>0</td>\n",
       "      <td>0</td>\n",
       "      <td>0</td>\n",
       "      <td>0</td>\n",
       "      <td>...</td>\n",
       "      <td>0</td>\n",
       "      <td>0</td>\n",
       "      <td>0</td>\n",
       "      <td>0</td>\n",
       "      <td>0</td>\n",
       "      <td>1</td>\n",
       "      <td>0</td>\n",
       "      <td>0</td>\n",
       "      <td>1</td>\n",
       "      <td>0</td>\n",
       "    </tr>\n",
       "    <tr>\n",
       "      <th>4</th>\n",
       "      <td>0.0</td>\n",
       "      <td>1587.0</td>\n",
       "      <td>0</td>\n",
       "      <td>0</td>\n",
       "      <td>0</td>\n",
       "      <td>0</td>\n",
       "      <td>0</td>\n",
       "      <td>0</td>\n",
       "      <td>0</td>\n",
       "      <td>0</td>\n",
       "      <td>...</td>\n",
       "      <td>0</td>\n",
       "      <td>0</td>\n",
       "      <td>0</td>\n",
       "      <td>0</td>\n",
       "      <td>0</td>\n",
       "      <td>0</td>\n",
       "      <td>0</td>\n",
       "      <td>1</td>\n",
       "      <td>0</td>\n",
       "      <td>0</td>\n",
       "    </tr>\n",
       "  </tbody>\n",
       "</table>\n",
       "<p>5 rows × 75 columns</p>\n",
       "</div>"
      ],
      "text/plain": [
       "   target  Distance  Quarter_2  Quarter_3  Quarter_4  Month_2  Month_3  \\\n",
       "0     0.0     689.0          0          0          0        0        0   \n",
       "1     0.0     731.0          0          0          0        0        0   \n",
       "2     0.0    1199.0          0          0          0        0        0   \n",
       "3     0.0    1587.0          0          0          0        0        0   \n",
       "4     0.0    1587.0          0          0          0        0        0   \n",
       "\n",
       "   Month_4  Month_5  Month_6  ...  Dest_DEN  Dest_DFW  Dest_IAH  Dest_LAX  \\\n",
       "0        0        0        0  ...         0         0         1         0   \n",
       "1        0        0        0  ...         0         0         0         0   \n",
       "2        0        0        0  ...         1         0         0         0   \n",
       "3        0        0        0  ...         0         0         0         0   \n",
       "4        0        0        0  ...         0         0         0         0   \n",
       "\n",
       "   Dest_ORD  Dest_PHX  Dest_SFO  DepHourofDay_Morning  DepHourofDay_Afternoon  \\\n",
       "0         0         0         0                     0                       0   \n",
       "1         0         0         0                     1                       0   \n",
       "2         0         0         0                     0                       0   \n",
       "3         0         1         0                     0                       1   \n",
       "4         0         0         0                     1                       0   \n",
       "\n",
       "   DepHourofDay_Evening  \n",
       "0                     1  \n",
       "1                     0  \n",
       "2                     1  \n",
       "3                     0  \n",
       "4                     0  \n",
       "\n",
       "[5 rows x 75 columns]"
      ]
     },
     "execution_count": 41,
     "metadata": {},
     "output_type": "execute_result"
    }
   ],
   "source": [
    "df_ensemble.head()"
   ]
  },
  {
   "cell_type": "code",
   "execution_count": 42,
   "id": "12e42b8e-2730-4b58-b5f9-eef28b326843",
   "metadata": {
    "tags": []
   },
   "outputs": [
    {
     "data": {
      "text/html": [
       "<div>\n",
       "<style scoped>\n",
       "    .dataframe tbody tr th:only-of-type {\n",
       "        vertical-align: middle;\n",
       "    }\n",
       "\n",
       "    .dataframe tbody tr th {\n",
       "        vertical-align: top;\n",
       "    }\n",
       "\n",
       "    .dataframe thead th {\n",
       "        text-align: right;\n",
       "    }\n",
       "</style>\n",
       "<table border=\"1\" class=\"dataframe\">\n",
       "  <thead>\n",
       "    <tr style=\"text-align: right;\">\n",
       "      <th></th>\n",
       "      <th>target</th>\n",
       "      <th>Distance</th>\n",
       "      <th>Quarter_2</th>\n",
       "      <th>Quarter_3</th>\n",
       "      <th>Quarter_4</th>\n",
       "      <th>Month_2</th>\n",
       "      <th>Month_3</th>\n",
       "      <th>Month_4</th>\n",
       "      <th>Month_5</th>\n",
       "      <th>Month_6</th>\n",
       "      <th>...</th>\n",
       "      <th>Dest_DEN</th>\n",
       "      <th>Dest_DFW</th>\n",
       "      <th>Dest_IAH</th>\n",
       "      <th>Dest_LAX</th>\n",
       "      <th>Dest_ORD</th>\n",
       "      <th>Dest_PHX</th>\n",
       "      <th>Dest_SFO</th>\n",
       "      <th>DepHourofDay_Morning</th>\n",
       "      <th>DepHourofDay_Afternoon</th>\n",
       "      <th>DepHourofDay_Evening</th>\n",
       "    </tr>\n",
       "  </thead>\n",
       "  <tbody>\n",
       "    <tr>\n",
       "      <th>0</th>\n",
       "      <td>0.0</td>\n",
       "      <td>689.0</td>\n",
       "      <td>0</td>\n",
       "      <td>0</td>\n",
       "      <td>0</td>\n",
       "      <td>0</td>\n",
       "      <td>0</td>\n",
       "      <td>0</td>\n",
       "      <td>0</td>\n",
       "      <td>0</td>\n",
       "      <td>...</td>\n",
       "      <td>0</td>\n",
       "      <td>0</td>\n",
       "      <td>1</td>\n",
       "      <td>0</td>\n",
       "      <td>0</td>\n",
       "      <td>0</td>\n",
       "      <td>0</td>\n",
       "      <td>0</td>\n",
       "      <td>0</td>\n",
       "      <td>1</td>\n",
       "    </tr>\n",
       "    <tr>\n",
       "      <th>1</th>\n",
       "      <td>0.0</td>\n",
       "      <td>731.0</td>\n",
       "      <td>0</td>\n",
       "      <td>0</td>\n",
       "      <td>0</td>\n",
       "      <td>0</td>\n",
       "      <td>0</td>\n",
       "      <td>0</td>\n",
       "      <td>0</td>\n",
       "      <td>0</td>\n",
       "      <td>...</td>\n",
       "      <td>0</td>\n",
       "      <td>0</td>\n",
       "      <td>0</td>\n",
       "      <td>0</td>\n",
       "      <td>0</td>\n",
       "      <td>0</td>\n",
       "      <td>0</td>\n",
       "      <td>1</td>\n",
       "      <td>0</td>\n",
       "      <td>0</td>\n",
       "    </tr>\n",
       "    <tr>\n",
       "      <th>2</th>\n",
       "      <td>0.0</td>\n",
       "      <td>1199.0</td>\n",
       "      <td>0</td>\n",
       "      <td>0</td>\n",
       "      <td>0</td>\n",
       "      <td>0</td>\n",
       "      <td>0</td>\n",
       "      <td>0</td>\n",
       "      <td>0</td>\n",
       "      <td>0</td>\n",
       "      <td>...</td>\n",
       "      <td>1</td>\n",
       "      <td>0</td>\n",
       "      <td>0</td>\n",
       "      <td>0</td>\n",
       "      <td>0</td>\n",
       "      <td>0</td>\n",
       "      <td>0</td>\n",
       "      <td>0</td>\n",
       "      <td>0</td>\n",
       "      <td>1</td>\n",
       "    </tr>\n",
       "    <tr>\n",
       "      <th>3</th>\n",
       "      <td>0.0</td>\n",
       "      <td>1587.0</td>\n",
       "      <td>0</td>\n",
       "      <td>0</td>\n",
       "      <td>0</td>\n",
       "      <td>0</td>\n",
       "      <td>0</td>\n",
       "      <td>0</td>\n",
       "      <td>0</td>\n",
       "      <td>0</td>\n",
       "      <td>...</td>\n",
       "      <td>0</td>\n",
       "      <td>0</td>\n",
       "      <td>0</td>\n",
       "      <td>0</td>\n",
       "      <td>0</td>\n",
       "      <td>1</td>\n",
       "      <td>0</td>\n",
       "      <td>0</td>\n",
       "      <td>1</td>\n",
       "      <td>0</td>\n",
       "    </tr>\n",
       "    <tr>\n",
       "      <th>4</th>\n",
       "      <td>0.0</td>\n",
       "      <td>1587.0</td>\n",
       "      <td>0</td>\n",
       "      <td>0</td>\n",
       "      <td>0</td>\n",
       "      <td>0</td>\n",
       "      <td>0</td>\n",
       "      <td>0</td>\n",
       "      <td>0</td>\n",
       "      <td>0</td>\n",
       "      <td>...</td>\n",
       "      <td>0</td>\n",
       "      <td>0</td>\n",
       "      <td>0</td>\n",
       "      <td>0</td>\n",
       "      <td>0</td>\n",
       "      <td>0</td>\n",
       "      <td>0</td>\n",
       "      <td>1</td>\n",
       "      <td>0</td>\n",
       "      <td>0</td>\n",
       "    </tr>\n",
       "  </tbody>\n",
       "</table>\n",
       "<p>5 rows × 75 columns</p>\n",
       "</div>"
      ],
      "text/plain": [
       "   target  Distance  Quarter_2  Quarter_3  Quarter_4  Month_2  Month_3  \\\n",
       "0     0.0     689.0          0          0          0        0        0   \n",
       "1     0.0     731.0          0          0          0        0        0   \n",
       "2     0.0    1199.0          0          0          0        0        0   \n",
       "3     0.0    1587.0          0          0          0        0        0   \n",
       "4     0.0    1587.0          0          0          0        0        0   \n",
       "\n",
       "   Month_4  Month_5  Month_6  ...  Dest_DEN  Dest_DFW  Dest_IAH  Dest_LAX  \\\n",
       "0        0        0        0  ...         0         0         1         0   \n",
       "1        0        0        0  ...         0         0         0         0   \n",
       "2        0        0        0  ...         1         0         0         0   \n",
       "3        0        0        0  ...         0         0         0         0   \n",
       "4        0        0        0  ...         0         0         0         0   \n",
       "\n",
       "   Dest_ORD  Dest_PHX  Dest_SFO  DepHourofDay_Morning  DepHourofDay_Afternoon  \\\n",
       "0         0         0         0                     0                       0   \n",
       "1         0         0         0                     1                       0   \n",
       "2         0         0         0                     0                       0   \n",
       "3         0         1         0                     0                       1   \n",
       "4         0         0         0                     1                       0   \n",
       "\n",
       "   DepHourofDay_Evening  \n",
       "0                     1  \n",
       "1                     0  \n",
       "2                     1  \n",
       "3                     0  \n",
       "4                     0  \n",
       "\n",
       "[5 rows x 75 columns]"
      ]
     },
     "execution_count": 42,
     "metadata": {},
     "output_type": "execute_result"
    }
   ],
   "source": [
    "df_ensemble_cleaned = df_ensemble.replace({True: 1, False: 0})\n",
    "\n",
    "df_ensemble_cleaned.head(5)"
   ]
  },
  {
   "cell_type": "code",
   "execution_count": 43,
   "id": "d2dae199-fe58-408c-a5df-aa75a6681836",
   "metadata": {
    "tags": []
   },
   "outputs": [
    {
     "data": {
      "text/plain": [
       "0"
      ]
     },
     "execution_count": 43,
     "metadata": {},
     "output_type": "execute_result"
    }
   ],
   "source": [
    "df_ensemble_cleaned.isnull().sum().sum()"
   ]
  },
  {
   "cell_type": "code",
   "execution_count": 44,
   "id": "8a9fbcbb-7ea2-438e-82fe-64e24dc8640c",
   "metadata": {
    "tags": []
   },
   "outputs": [
    {
     "data": {
      "text/plain": [
       "(1635590, 75)"
      ]
     },
     "execution_count": 44,
     "metadata": {},
     "output_type": "execute_result"
    }
   ],
   "source": [
    "df_ensemble_cleaned.shape"
   ]
  },
  {
   "cell_type": "markdown",
   "id": "67ef77ff",
   "metadata": {},
   "source": [
    "### Train, Test and Validate Splits\n"
   ]
  },
  {
   "cell_type": "code",
   "execution_count": 45,
   "id": "f70d13fb-0e2c-4dd6-b356-bac8dc480864",
   "metadata": {
    "tags": []
   },
   "outputs": [],
   "source": [
    "# split the data\n",
    "\n",
    "train, test_and_validate = train_test_split(\n",
    "    df_ensemble_cleaned,\n",
    "    test_size=0.3,\n",
    "    random_state=42,\n",
    "    stratify=df_ensemble_cleaned[\"target\"],\n",
    ")\n",
    "test, validate = train_test_split(\n",
    "    test_and_validate,\n",
    "    test_size=0.5,\n",
    "    random_state=42,\n",
    "    stratify=test_and_validate[\"target\"],\n",
    ")"
   ]
  },
  {
   "cell_type": "code",
   "execution_count": 46,
   "id": "97fbe2a2",
   "metadata": {
    "tags": []
   },
   "outputs": [
    {
     "data": {
      "text/plain": [
       "(1144913, 75)"
      ]
     },
     "execution_count": 46,
     "metadata": {},
     "output_type": "execute_result"
    }
   ],
   "source": [
    "# shape of train data\n",
    "train.shape"
   ]
  },
  {
   "cell_type": "code",
   "execution_count": 47,
   "id": "71357300",
   "metadata": {
    "tags": []
   },
   "outputs": [
    {
     "data": {
      "text/plain": [
       "(245338, 75)"
      ]
     },
     "execution_count": 47,
     "metadata": {},
     "output_type": "execute_result"
    }
   ],
   "source": [
    "# shape of test\n",
    "test.shape"
   ]
  },
  {
   "cell_type": "code",
   "execution_count": 48,
   "id": "babf49b2",
   "metadata": {
    "tags": []
   },
   "outputs": [
    {
     "data": {
      "text/plain": [
       "(245339, 75)"
      ]
     },
     "execution_count": 48,
     "metadata": {},
     "output_type": "execute_result"
    }
   ],
   "source": [
    "# shape of validate\n",
    "validate.shape"
   ]
  },
  {
   "cell_type": "markdown",
   "id": "2eb386ab",
   "metadata": {},
   "source": [
    "### Uploading Data to AWS S3 Buckets\n"
   ]
  },
  {
   "cell_type": "code",
   "execution_count": 49,
   "id": "af1da3ea",
   "metadata": {
    "tags": []
   },
   "outputs": [],
   "source": [
    "# set the names of the csv files\n",
    "train_file = \"data_v1E_train.csv\"\n",
    "test_file = \"data_v1E_test.csv\"\n",
    "validate_file = \"data_v1E_validate.csv\""
   ]
  },
  {
   "cell_type": "code",
   "execution_count": 50,
   "id": "6b9ba9c6",
   "metadata": {
    "tags": []
   },
   "outputs": [
    {
     "name": "stdout",
     "output_type": "stream",
     "text": [
      "s3.Bucket(name='u3253992-ajulthomas-oncloud')\n",
      "s3.Bucket(name='u3253992-ajulthomas-oncloud')\n",
      "s3.Bucket(name='u3253992-ajulthomas-oncloud')\n"
     ]
    }
   ],
   "source": [
    "# uploading data to aws s3\n",
    "\n",
    "upload_s3_csv(train_file, \"train\", train)\n",
    "upload_s3_csv(test_file, \"test\", test)\n",
    "upload_s3_csv(validate_file, \"validate\", validate)"
   ]
  },
  {
   "cell_type": "markdown",
   "id": "8db78368",
   "metadata": {},
   "source": [
    "### Retrieving the ML model - `xgboost`\n"
   ]
  },
  {
   "cell_type": "code",
   "execution_count": 51,
   "id": "0900fdfe",
   "metadata": {
    "tags": []
   },
   "outputs": [],
   "source": [
    "import boto3\n",
    "from sagemaker.image_uris import retrieve\n",
    "\n",
    "container = retrieve(\"xgboost\", \"us-east-1\", version=\"1.0-1\")"
   ]
  },
  {
   "cell_type": "code",
   "execution_count": 52,
   "id": "f4f3ceeb",
   "metadata": {
    "tags": []
   },
   "outputs": [],
   "source": [
    "hyperparams = {\"num_round\": \"42\", \"eval_metric\": \"auc\", \"objective\": \"binary:logistic\"}"
   ]
  },
  {
   "cell_type": "code",
   "execution_count": 53,
   "id": "338dccc5",
   "metadata": {
    "tags": []
   },
   "outputs": [],
   "source": [
    "import sagemaker\n",
    "\n",
    "# Ensure your session is set to the same region as the bucket\n",
    "session = sagemaker.Session(boto3.session.Session(region_name=\"us-east-1\"))\n",
    "\n",
    "s3_output_location = \"s3://{}/{}/output/\".format(bucket, prefix)\n",
    "xgb_model = sagemaker.estimator.Estimator(\n",
    "    container,\n",
    "    sagemaker.get_execution_role(),\n",
    "    instance_count=1,\n",
    "    instance_type=\"ml.c5.2xlarge\",\n",
    "    output_path=s3_output_location,\n",
    "    hyperparameters=hyperparams,\n",
    "    sagemaker_session=session,\n",
    ")"
   ]
  },
  {
   "cell_type": "code",
   "execution_count": 54,
   "id": "06fc1ea5-a1f4-410d-bb51-f9ce5f83f457",
   "metadata": {
    "tags": []
   },
   "outputs": [
    {
     "name": "stdout",
     "output_type": "stream",
     "text": [
      "channels <sagemaker.inputs.TrainingInput object at 0x7fb07705ffa0> \n",
      " <sagemaker.inputs.TrainingInput object at 0x7fb07705fd90>\n"
     ]
    }
   ],
   "source": [
    "train_channel = sagemaker.inputs.TrainingInput(\n",
    "    \"s3://{}/{}/train/{}\".format(bucket, prefix, train_file), content_type=\"text/csv\"\n",
    ")\n",
    "\n",
    "validate_channel = sagemaker.inputs.TrainingInput(\n",
    "    \"s3://{}/{}/validate/{}\".format(bucket, prefix, validate_file),\n",
    "    content_type=\"text/csv\",\n",
    ")\n",
    "\n",
    "print(f\"channels {validate_channel} \\n {train_channel}\")\n",
    "\n",
    "data_channels = {\"train\": train_channel, \"validation\": validate_channel}"
   ]
  },
  {
   "cell_type": "markdown",
   "id": "f0f19243",
   "metadata": {},
   "source": [
    "### Training the model\n"
   ]
  },
  {
   "cell_type": "code",
   "execution_count": 55,
   "id": "52bc210d-67eb-4b37-9346-105210ccf36f",
   "metadata": {
    "tags": []
   },
   "outputs": [
    {
     "name": "stdout",
     "output_type": "stream",
     "text": [
      "\n",
      "2024-11-03 04:56:27 Starting - Starting the training job.\n",
      "2024-11-03 04:56:40 Starting - Preparing the instances for training....\n",
      "2024-11-03 04:57:07 Downloading - Downloading input data....\n",
      "2024-11-03 04:57:33 Downloading - Downloading the training image...\n",
      "2024-11-03 04:57:54 Training - Training image download completed. Training in progress..........\n",
      "2024-11-03 04:58:44 Uploading - Uploading generated training model.\n",
      "2024-11-03 04:58:57 Completed - Training job completed\n"
     ]
    }
   ],
   "source": [
    "xgb_model.fit(inputs=data_channels, logs=False)"
   ]
  },
  {
   "cell_type": "markdown",
   "id": "3c4c308f",
   "metadata": {},
   "source": [
    "### Deploying the model\n"
   ]
  },
  {
   "cell_type": "code",
   "execution_count": 56,
   "id": "69830fe1-3e38-4edb-b798-f037ef63350e",
   "metadata": {
    "tags": []
   },
   "outputs": [
    {
     "name": "stdout",
     "output_type": "stream",
     "text": [
      "-----!"
     ]
    }
   ],
   "source": [
    "xgb_predictor = xgb_model.deploy(\n",
    "    initial_instance_count=1,\n",
    "    serializer=sagemaker.serializers.CSVSerializer(),\n",
    "    instance_type=\"ml.c5.2xlarge\",\n",
    ")"
   ]
  },
  {
   "cell_type": "markdown",
   "id": "e485a5b7",
   "metadata": {},
   "source": [
    "### Creating batch input for predictions\n"
   ]
  },
  {
   "cell_type": "code",
   "execution_count": 57,
   "id": "9a667916",
   "metadata": {
    "tags": []
   },
   "outputs": [
    {
     "name": "stdout",
     "output_type": "stream",
     "text": [
      "s3.Bucket(name='u3253992-ajulthomas-oncloud')\n"
     ]
    }
   ],
   "source": [
    "# extracts the features from the test data\n",
    "batch_X = test.iloc[:, 1:]\n",
    "\n",
    "# replace all True, False Values with 1 and 0\n",
    "# batch_X = batch_X.replace({True: 1, False: 0})\n",
    "\n",
    "# filename of the batch input file while uploading to s3\n",
    "batch_X_file = \"batch-in.csv\"\n",
    "\n",
    "# save the batch input file\n",
    "upload_s3_csv(batch_X_file, \"batch-in\", batch_X)"
   ]
  },
  {
   "cell_type": "code",
   "execution_count": 58,
   "id": "a2b1698a-b155-4eea-bb91-c468ae068fd2",
   "metadata": {
    "tags": []
   },
   "outputs": [
    {
     "data": {
      "text/plain": [
       "(245338, 74)"
      ]
     },
     "execution_count": 58,
     "metadata": {},
     "output_type": "execute_result"
    }
   ],
   "source": [
    "batch_X.isnull().sum().sum()\n",
    "\n",
    "batch_X.shape"
   ]
  },
  {
   "cell_type": "markdown",
   "id": "bfdf30af",
   "metadata": {},
   "source": [
    "### Setting up batch transformation job\n"
   ]
  },
  {
   "cell_type": "code",
   "execution_count": 59,
   "id": "39fc0cc4",
   "metadata": {
    "tags": []
   },
   "outputs": [],
   "source": [
    "# set the output location for the batch output\n",
    "batch_output = \"s3://{}/{}/batch-out/\".format(bucket, prefix)\n",
    "\n",
    "# set the batch input location\n",
    "batch_input = \"s3://{}/{}/batch-in/{}\".format(bucket, prefix, batch_X_file)\n",
    "\n",
    "# create the transformer object from the xgb model\n",
    "xgb_transformer = xgb_model.transformer(\n",
    "    instance_count=1,\n",
    "    instance_type=\"ml.c5.2xlarge\",\n",
    "    strategy=\"MultiRecord\",\n",
    "    assemble_with=\"Line\",\n",
    "    output_path=batch_output,\n",
    ")"
   ]
  },
  {
   "cell_type": "markdown",
   "id": "04c9477a",
   "metadata": {},
   "source": [
    "### Batch Transform\n"
   ]
  },
  {
   "cell_type": "code",
   "execution_count": 60,
   "id": "af660971",
   "metadata": {
    "tags": []
   },
   "outputs": [
    {
     "name": "stdout",
     "output_type": "stream",
     "text": [
      ".........................\u001b[32m2024-11-03T05:06:47.935:[sagemaker logs]: MaxConcurrentTransforms=8, MaxPayloadInMB=6, BatchStrategy=MULTI_RECORD\u001b[0m\n",
      "\u001b[34m[2024-11-03:05:06:43:INFO] No GPUs detected (normal if no gpus installed)\u001b[0m\n",
      "\u001b[34m[2024-11-03:05:06:43:INFO] No GPUs detected (normal if no gpus installed)\u001b[0m\n",
      "\u001b[34m[2024-11-03:05:06:43:INFO] nginx config: \u001b[0m\n",
      "\u001b[34mworker_processes auto;\u001b[0m\n",
      "\u001b[34mdaemon off;\u001b[0m\n",
      "\u001b[34mpid /tmp/nginx.pid;\u001b[0m\n",
      "\u001b[34merror_log  /dev/stderr;\u001b[0m\n",
      "\u001b[34mworker_rlimit_nofile 4096;\u001b[0m\n",
      "\u001b[34mevents {\n",
      "  worker_connections 2048;\u001b[0m\n",
      "\u001b[34m}\u001b[0m\n",
      "\u001b[35m[2024-11-03:05:06:43:INFO] No GPUs detected (normal if no gpus installed)\u001b[0m\n",
      "\u001b[35m[2024-11-03:05:06:43:INFO] No GPUs detected (normal if no gpus installed)\u001b[0m\n",
      "\u001b[35m[2024-11-03:05:06:43:INFO] nginx config: \u001b[0m\n",
      "\u001b[35mworker_processes auto;\u001b[0m\n",
      "\u001b[35mdaemon off;\u001b[0m\n",
      "\u001b[35mpid /tmp/nginx.pid;\u001b[0m\n",
      "\u001b[35merror_log  /dev/stderr;\u001b[0m\n",
      "\u001b[35mworker_rlimit_nofile 4096;\u001b[0m\n",
      "\u001b[35mevents {\n",
      "  worker_connections 2048;\u001b[0m\n",
      "\u001b[35m}\u001b[0m\n",
      "\u001b[34mhttp {\n",
      "  include /etc/nginx/mime.types;\n",
      "  default_type application/octet-stream;\n",
      "  access_log /dev/stdout combined;\n",
      "  upstream gunicorn {\n",
      "    server unix:/tmp/gunicorn.sock;\n",
      "  }\n",
      "  server {\n",
      "    listen 8080 deferred;\n",
      "    client_max_body_size 0;\n",
      "    keepalive_timeout 3;\n",
      "    location ~ ^/(ping|invocations|execution-parameters) {\n",
      "      proxy_set_header X-Forwarded-For $proxy_add_x_forwarded_for;\n",
      "      proxy_set_header Host $http_host;\n",
      "      proxy_redirect off;\n",
      "      proxy_read_timeout 60s;\n",
      "      proxy_pass http://gunicorn;\n",
      "    }\n",
      "    location / {\n",
      "      return 404 \"{}\";\n",
      "    }\n",
      "  }\u001b[0m\n",
      "\u001b[34m}\u001b[0m\n",
      "\u001b[34m[2024-11-03 05:06:43 +0000] [27] [INFO] Starting gunicorn 19.10.0\u001b[0m\n",
      "\u001b[34m[2024-11-03 05:06:43 +0000] [27] [INFO] Listening at: unix:/tmp/gunicorn.sock (27)\u001b[0m\n",
      "\u001b[34m[2024-11-03 05:06:43 +0000] [27] [INFO] Using worker: gevent\u001b[0m\n",
      "\u001b[34m[2024-11-03 05:06:43 +0000] [38] [INFO] Booting worker with pid: 38\u001b[0m\n",
      "\u001b[34m[2024-11-03 05:06:43 +0000] [39] [INFO] Booting worker with pid: 39\u001b[0m\n",
      "\u001b[34m[2024-11-03 05:06:43 +0000] [47] [INFO] Booting worker with pid: 47\u001b[0m\n",
      "\u001b[34m[2024-11-03 05:06:44 +0000] [55] [INFO] Booting worker with pid: 55\u001b[0m\n",
      "\u001b[34m[2024-11-03 05:06:44 +0000] [56] [INFO] Booting worker with pid: 56\u001b[0m\n",
      "\u001b[34m[2024-11-03 05:06:44 +0000] [57] [INFO] Booting worker with pid: 57\u001b[0m\n",
      "\u001b[34m[2024-11-03 05:06:44 +0000] [58] [INFO] Booting worker with pid: 58\u001b[0m\n",
      "\u001b[34m[2024-11-03 05:06:44 +0000] [66] [INFO] Booting worker with pid: 66\u001b[0m\n",
      "\u001b[34m[2024-11-03:05:06:47:INFO] No GPUs detected (normal if no gpus installed)\u001b[0m\n",
      "\u001b[34m169.254.255.130 - - [03/Nov/2024:05:06:47 +0000] \"GET /ping HTTP/1.1\" 200 0 \"-\" \"Go-http-client/1.1\"\u001b[0m\n",
      "\u001b[34m169.254.255.130 - - [03/Nov/2024:05:06:47 +0000] \"GET /execution-parameters HTTP/1.1\" 200 84 \"-\" \"Go-http-client/1.1\"\u001b[0m\n",
      "\u001b[34m[2024-11-03:05:06:48:INFO] No GPUs detected (normal if no gpus installed)\u001b[0m\n",
      "\u001b[34m[2024-11-03:05:06:48:INFO] No GPUs detected (normal if no gpus installed)\u001b[0m\n",
      "\u001b[35mhttp {\n",
      "  include /etc/nginx/mime.types;\n",
      "  default_type application/octet-stream;\n",
      "  access_log /dev/stdout combined;\n",
      "  upstream gunicorn {\n",
      "    server unix:/tmp/gunicorn.sock;\n",
      "  }\n",
      "  server {\n",
      "    listen 8080 deferred;\n",
      "    client_max_body_size 0;\n",
      "    keepalive_timeout 3;\n",
      "    location ~ ^/(ping|invocations|execution-parameters) {\n",
      "      proxy_set_header X-Forwarded-For $proxy_add_x_forwarded_for;\n",
      "      proxy_set_header Host $http_host;\n",
      "      proxy_redirect off;\n",
      "      proxy_read_timeout 60s;\n",
      "      proxy_pass http://gunicorn;\n",
      "    }\n",
      "    location / {\n",
      "      return 404 \"{}\";\n",
      "    }\n",
      "  }\u001b[0m\n",
      "\u001b[35m}\u001b[0m\n",
      "\u001b[35m[2024-11-03 05:06:43 +0000] [27] [INFO] Starting gunicorn 19.10.0\u001b[0m\n",
      "\u001b[35m[2024-11-03 05:06:43 +0000] [27] [INFO] Listening at: unix:/tmp/gunicorn.sock (27)\u001b[0m\n",
      "\u001b[35m[2024-11-03 05:06:43 +0000] [27] [INFO] Using worker: gevent\u001b[0m\n",
      "\u001b[35m[2024-11-03 05:06:43 +0000] [38] [INFO] Booting worker with pid: 38\u001b[0m\n",
      "\u001b[35m[2024-11-03 05:06:43 +0000] [39] [INFO] Booting worker with pid: 39\u001b[0m\n",
      "\u001b[35m[2024-11-03 05:06:43 +0000] [47] [INFO] Booting worker with pid: 47\u001b[0m\n",
      "\u001b[35m[2024-11-03 05:06:44 +0000] [55] [INFO] Booting worker with pid: 55\u001b[0m\n",
      "\u001b[35m[2024-11-03 05:06:44 +0000] [56] [INFO] Booting worker with pid: 56\u001b[0m\n",
      "\u001b[35m[2024-11-03 05:06:44 +0000] [57] [INFO] Booting worker with pid: 57\u001b[0m\n",
      "\u001b[35m[2024-11-03 05:06:44 +0000] [58] [INFO] Booting worker with pid: 58\u001b[0m\n",
      "\u001b[35m[2024-11-03 05:06:44 +0000] [66] [INFO] Booting worker with pid: 66\u001b[0m\n",
      "\u001b[35m[2024-11-03:05:06:47:INFO] No GPUs detected (normal if no gpus installed)\u001b[0m\n",
      "\u001b[35m169.254.255.130 - - [03/Nov/2024:05:06:47 +0000] \"GET /ping HTTP/1.1\" 200 0 \"-\" \"Go-http-client/1.1\"\u001b[0m\n",
      "\u001b[35m169.254.255.130 - - [03/Nov/2024:05:06:47 +0000] \"GET /execution-parameters HTTP/1.1\" 200 84 \"-\" \"Go-http-client/1.1\"\u001b[0m\n",
      "\u001b[35m[2024-11-03:05:06:48:INFO] No GPUs detected (normal if no gpus installed)\u001b[0m\n",
      "\u001b[35m[2024-11-03:05:06:48:INFO] No GPUs detected (normal if no gpus installed)\u001b[0m\n",
      "\u001b[34m[2024-11-03:05:06:48:INFO] Determined delimiter of CSV input is ','\u001b[0m\n",
      "\u001b[34m[2024-11-03:05:06:48:INFO] No GPUs detected (normal if no gpus installed)\u001b[0m\n",
      "\u001b[35m[2024-11-03:05:06:48:INFO] Determined delimiter of CSV input is ','\u001b[0m\n",
      "\u001b[35m[2024-11-03:05:06:48:INFO] No GPUs detected (normal if no gpus installed)\u001b[0m\n",
      "\u001b[34m[2024-11-03:05:06:48:INFO] Determined delimiter of CSV input is ','\u001b[0m\n",
      "\u001b[34m[2024-11-03:05:06:48:INFO] No GPUs detected (normal if no gpus installed)\u001b[0m\n",
      "\u001b[34m[2024-11-03:05:06:48:INFO] Determined delimiter of CSV input is ','\u001b[0m\n",
      "\u001b[34m[2024-11-03:05:06:48:INFO] No GPUs detected (normal if no gpus installed)\u001b[0m\n",
      "\u001b[34m[2024-11-03:05:06:48:INFO] Determined delimiter of CSV input is ','\u001b[0m\n",
      "\u001b[34m[2024-11-03:05:06:48:INFO] Determined delimiter of CSV input is ','\u001b[0m\n",
      "\u001b[34m[2024-11-03:05:06:48:INFO] Determined delimiter of CSV input is ','\u001b[0m\n",
      "\u001b[35m[2024-11-03:05:06:48:INFO] Determined delimiter of CSV input is ','\u001b[0m\n",
      "\u001b[35m[2024-11-03:05:06:48:INFO] No GPUs detected (normal if no gpus installed)\u001b[0m\n",
      "\u001b[35m[2024-11-03:05:06:48:INFO] Determined delimiter of CSV input is ','\u001b[0m\n",
      "\u001b[35m[2024-11-03:05:06:48:INFO] No GPUs detected (normal if no gpus installed)\u001b[0m\n",
      "\u001b[35m[2024-11-03:05:06:48:INFO] Determined delimiter of CSV input is ','\u001b[0m\n",
      "\u001b[35m[2024-11-03:05:06:48:INFO] Determined delimiter of CSV input is ','\u001b[0m\n",
      "\u001b[35m[2024-11-03:05:06:48:INFO] Determined delimiter of CSV input is ','\u001b[0m\n",
      "\u001b[34m169.254.255.130 - - [03/Nov/2024:05:06:50 +0000] \"POST /invocations HTTP/1.1\" 200 763589 \"-\" \"Go-http-client/1.1\"\u001b[0m\n",
      "\u001b[35m169.254.255.130 - - [03/Nov/2024:05:06:50 +0000] \"POST /invocations HTTP/1.1\" 200 763589 \"-\" \"Go-http-client/1.1\"\u001b[0m\n",
      "\u001b[34m169.254.255.130 - - [03/Nov/2024:05:06:50 +0000] \"POST /invocations HTTP/1.1\" 200 810410 \"-\" \"Go-http-client/1.1\"\u001b[0m\n",
      "\u001b[34m169.254.255.130 - - [03/Nov/2024:05:06:50 +0000] \"POST /invocations HTTP/1.1\" 200 810277 \"-\" \"Go-http-client/1.1\"\u001b[0m\n",
      "\u001b[34m169.254.255.130 - - [03/Nov/2024:05:06:50 +0000] \"POST /invocations HTTP/1.1\" 200 810334 \"-\" \"Go-http-client/1.1\"\u001b[0m\n",
      "\u001b[34m169.254.255.130 - - [03/Nov/2024:05:06:51 +0000] \"POST /invocations HTTP/1.1\" 200 810585 \"-\" \"Go-http-client/1.1\"\u001b[0m\n",
      "\u001b[34m169.254.255.130 - - [03/Nov/2024:05:06:51 +0000] \"POST /invocations HTTP/1.1\" 200 810248 \"-\" \"Go-http-client/1.1\"\u001b[0m\n",
      "\u001b[35m169.254.255.130 - - [03/Nov/2024:05:06:50 +0000] \"POST /invocations HTTP/1.1\" 200 810410 \"-\" \"Go-http-client/1.1\"\u001b[0m\n",
      "\u001b[35m169.254.255.130 - - [03/Nov/2024:05:06:50 +0000] \"POST /invocations HTTP/1.1\" 200 810277 \"-\" \"Go-http-client/1.1\"\u001b[0m\n",
      "\u001b[35m169.254.255.130 - - [03/Nov/2024:05:06:50 +0000] \"POST /invocations HTTP/1.1\" 200 810334 \"-\" \"Go-http-client/1.1\"\u001b[0m\n",
      "\u001b[35m169.254.255.130 - - [03/Nov/2024:05:06:51 +0000] \"POST /invocations HTTP/1.1\" 200 810585 \"-\" \"Go-http-client/1.1\"\u001b[0m\n",
      "\u001b[35m169.254.255.130 - - [03/Nov/2024:05:06:51 +0000] \"POST /invocations HTTP/1.1\" 200 810248 \"-\" \"Go-http-client/1.1\"\u001b[0m\n",
      "\n",
      "\u001b[32m2024-11-03T05:06:47.935:[sagemaker logs]: MaxConcurrentTransforms=8, MaxPayloadInMB=6, BatchStrategy=MULTI_RECORD\u001b[0m\n",
      "\u001b[34m[2024-11-03:05:06:43:INFO] No GPUs detected (normal if no gpus installed)\u001b[0m\n",
      "\u001b[34m[2024-11-03:05:06:43:INFO] No GPUs detected (normal if no gpus installed)\u001b[0m\n",
      "\u001b[34m[2024-11-03:05:06:43:INFO] nginx config: \u001b[0m\n",
      "\u001b[34mworker_processes auto;\u001b[0m\n",
      "\u001b[34mdaemon off;\u001b[0m\n",
      "\u001b[34mpid /tmp/nginx.pid;\u001b[0m\n",
      "\u001b[34merror_log  /dev/stderr;\u001b[0m\n",
      "\u001b[34mworker_rlimit_nofile 4096;\u001b[0m\n",
      "\u001b[34mevents {\n",
      "  worker_connections 2048;\u001b[0m\n",
      "\u001b[34m}\u001b[0m\n",
      "\u001b[35m[2024-11-03:05:06:43:INFO] No GPUs detected (normal if no gpus installed)\u001b[0m\n",
      "\u001b[35m[2024-11-03:05:06:43:INFO] No GPUs detected (normal if no gpus installed)\u001b[0m\n",
      "\u001b[35m[2024-11-03:05:06:43:INFO] nginx config: \u001b[0m\n",
      "\u001b[35mworker_processes auto;\u001b[0m\n",
      "\u001b[35mdaemon off;\u001b[0m\n",
      "\u001b[35mpid /tmp/nginx.pid;\u001b[0m\n",
      "\u001b[35merror_log  /dev/stderr;\u001b[0m\n",
      "\u001b[35mworker_rlimit_nofile 4096;\u001b[0m\n",
      "\u001b[35mevents {\n",
      "  worker_connections 2048;\u001b[0m\n",
      "\u001b[35m}\u001b[0m\n",
      "\u001b[34mhttp {\n",
      "  include /etc/nginx/mime.types;\n",
      "  default_type application/octet-stream;\n",
      "  access_log /dev/stdout combined;\n",
      "  upstream gunicorn {\n",
      "    server unix:/tmp/gunicorn.sock;\n",
      "  }\n",
      "  server {\n",
      "    listen 8080 deferred;\n",
      "    client_max_body_size 0;\n",
      "    keepalive_timeout 3;\n",
      "    location ~ ^/(ping|invocations|execution-parameters) {\n",
      "      proxy_set_header X-Forwarded-For $proxy_add_x_forwarded_for;\n",
      "      proxy_set_header Host $http_host;\n",
      "      proxy_redirect off;\n",
      "      proxy_read_timeout 60s;\n",
      "      proxy_pass http://gunicorn;\n",
      "    }\n",
      "    location / {\n",
      "      return 404 \"{}\";\n",
      "    }\n",
      "  }\u001b[0m\n",
      "\u001b[34m}\u001b[0m\n",
      "\u001b[34m[2024-11-03 05:06:43 +0000] [27] [INFO] Starting gunicorn 19.10.0\u001b[0m\n",
      "\u001b[34m[2024-11-03 05:06:43 +0000] [27] [INFO] Listening at: unix:/tmp/gunicorn.sock (27)\u001b[0m\n",
      "\u001b[34m[2024-11-03 05:06:43 +0000] [27] [INFO] Using worker: gevent\u001b[0m\n",
      "\u001b[34m[2024-11-03 05:06:43 +0000] [38] [INFO] Booting worker with pid: 38\u001b[0m\n",
      "\u001b[34m[2024-11-03 05:06:43 +0000] [39] [INFO] Booting worker with pid: 39\u001b[0m\n",
      "\u001b[34m[2024-11-03 05:06:43 +0000] [47] [INFO] Booting worker with pid: 47\u001b[0m\n",
      "\u001b[34m[2024-11-03 05:06:44 +0000] [55] [INFO] Booting worker with pid: 55\u001b[0m\n",
      "\u001b[34m[2024-11-03 05:06:44 +0000] [56] [INFO] Booting worker with pid: 56\u001b[0m\n",
      "\u001b[34m[2024-11-03 05:06:44 +0000] [57] [INFO] Booting worker with pid: 57\u001b[0m\n",
      "\u001b[34m[2024-11-03 05:06:44 +0000] [58] [INFO] Booting worker with pid: 58\u001b[0m\n",
      "\u001b[34m[2024-11-03 05:06:44 +0000] [66] [INFO] Booting worker with pid: 66\u001b[0m\n",
      "\u001b[34m[2024-11-03:05:06:47:INFO] No GPUs detected (normal if no gpus installed)\u001b[0m\n",
      "\u001b[34m169.254.255.130 - - [03/Nov/2024:05:06:47 +0000] \"GET /ping HTTP/1.1\" 200 0 \"-\" \"Go-http-client/1.1\"\u001b[0m\n",
      "\u001b[34m169.254.255.130 - - [03/Nov/2024:05:06:47 +0000] \"GET /execution-parameters HTTP/1.1\" 200 84 \"-\" \"Go-http-client/1.1\"\u001b[0m\n",
      "\u001b[34m[2024-11-03:05:06:48:INFO] No GPUs detected (normal if no gpus installed)\u001b[0m\n",
      "\u001b[34m[2024-11-03:05:06:48:INFO] No GPUs detected (normal if no gpus installed)\u001b[0m\n",
      "\u001b[35mhttp {\n",
      "  include /etc/nginx/mime.types;\n",
      "  default_type application/octet-stream;\n",
      "  access_log /dev/stdout combined;\n",
      "  upstream gunicorn {\n",
      "    server unix:/tmp/gunicorn.sock;\n",
      "  }\n",
      "  server {\n",
      "    listen 8080 deferred;\n",
      "    client_max_body_size 0;\n",
      "    keepalive_timeout 3;\n",
      "    location ~ ^/(ping|invocations|execution-parameters) {\n",
      "      proxy_set_header X-Forwarded-For $proxy_add_x_forwarded_for;\n",
      "      proxy_set_header Host $http_host;\n",
      "      proxy_redirect off;\n",
      "      proxy_read_timeout 60s;\n",
      "      proxy_pass http://gunicorn;\n",
      "    }\n",
      "    location / {\n",
      "      return 404 \"{}\";\n",
      "    }\n",
      "  }\u001b[0m\n",
      "\u001b[35m}\u001b[0m\n",
      "\u001b[35m[2024-11-03 05:06:43 +0000] [27] [INFO] Starting gunicorn 19.10.0\u001b[0m\n",
      "\u001b[35m[2024-11-03 05:06:43 +0000] [27] [INFO] Listening at: unix:/tmp/gunicorn.sock (27)\u001b[0m\n",
      "\u001b[35m[2024-11-03 05:06:43 +0000] [27] [INFO] Using worker: gevent\u001b[0m\n",
      "\u001b[35m[2024-11-03 05:06:43 +0000] [38] [INFO] Booting worker with pid: 38\u001b[0m\n",
      "\u001b[35m[2024-11-03 05:06:43 +0000] [39] [INFO] Booting worker with pid: 39\u001b[0m\n",
      "\u001b[35m[2024-11-03 05:06:43 +0000] [47] [INFO] Booting worker with pid: 47\u001b[0m\n",
      "\u001b[35m[2024-11-03 05:06:44 +0000] [55] [INFO] Booting worker with pid: 55\u001b[0m\n",
      "\u001b[35m[2024-11-03 05:06:44 +0000] [56] [INFO] Booting worker with pid: 56\u001b[0m\n",
      "\u001b[35m[2024-11-03 05:06:44 +0000] [57] [INFO] Booting worker with pid: 57\u001b[0m\n",
      "\u001b[35m[2024-11-03 05:06:44 +0000] [58] [INFO] Booting worker with pid: 58\u001b[0m\n",
      "\u001b[35m[2024-11-03 05:06:44 +0000] [66] [INFO] Booting worker with pid: 66\u001b[0m\n",
      "\u001b[35m[2024-11-03:05:06:47:INFO] No GPUs detected (normal if no gpus installed)\u001b[0m\n",
      "\u001b[35m169.254.255.130 - - [03/Nov/2024:05:06:47 +0000] \"GET /ping HTTP/1.1\" 200 0 \"-\" \"Go-http-client/1.1\"\u001b[0m\n",
      "\u001b[35m169.254.255.130 - - [03/Nov/2024:05:06:47 +0000] \"GET /execution-parameters HTTP/1.1\" 200 84 \"-\" \"Go-http-client/1.1\"\u001b[0m\n",
      "\u001b[35m[2024-11-03:05:06:48:INFO] No GPUs detected (normal if no gpus installed)\u001b[0m\n",
      "\u001b[35m[2024-11-03:05:06:48:INFO] No GPUs detected (normal if no gpus installed)\u001b[0m\n",
      "\u001b[34m[2024-11-03:05:06:48:INFO] Determined delimiter of CSV input is ','\u001b[0m\n",
      "\u001b[34m[2024-11-03:05:06:48:INFO] No GPUs detected (normal if no gpus installed)\u001b[0m\n",
      "\u001b[35m[2024-11-03:05:06:48:INFO] Determined delimiter of CSV input is ','\u001b[0m\n",
      "\u001b[35m[2024-11-03:05:06:48:INFO] No GPUs detected (normal if no gpus installed)\u001b[0m\n",
      "\u001b[34m[2024-11-03:05:06:48:INFO] Determined delimiter of CSV input is ','\u001b[0m\n",
      "\u001b[34m[2024-11-03:05:06:48:INFO] No GPUs detected (normal if no gpus installed)\u001b[0m\n",
      "\u001b[34m[2024-11-03:05:06:48:INFO] Determined delimiter of CSV input is ','\u001b[0m\n",
      "\u001b[34m[2024-11-03:05:06:48:INFO] No GPUs detected (normal if no gpus installed)\u001b[0m\n",
      "\u001b[34m[2024-11-03:05:06:48:INFO] Determined delimiter of CSV input is ','\u001b[0m\n",
      "\u001b[34m[2024-11-03:05:06:48:INFO] Determined delimiter of CSV input is ','\u001b[0m\n",
      "\u001b[34m[2024-11-03:05:06:48:INFO] Determined delimiter of CSV input is ','\u001b[0m\n",
      "\u001b[35m[2024-11-03:05:06:48:INFO] Determined delimiter of CSV input is ','\u001b[0m\n",
      "\u001b[35m[2024-11-03:05:06:48:INFO] No GPUs detected (normal if no gpus installed)\u001b[0m\n",
      "\u001b[35m[2024-11-03:05:06:48:INFO] Determined delimiter of CSV input is ','\u001b[0m\n",
      "\u001b[35m[2024-11-03:05:06:48:INFO] No GPUs detected (normal if no gpus installed)\u001b[0m\n",
      "\u001b[35m[2024-11-03:05:06:48:INFO] Determined delimiter of CSV input is ','\u001b[0m\n",
      "\u001b[35m[2024-11-03:05:06:48:INFO] Determined delimiter of CSV input is ','\u001b[0m\n",
      "\u001b[35m[2024-11-03:05:06:48:INFO] Determined delimiter of CSV input is ','\u001b[0m\n",
      "\u001b[34m169.254.255.130 - - [03/Nov/2024:05:06:50 +0000] \"POST /invocations HTTP/1.1\" 200 763589 \"-\" \"Go-http-client/1.1\"\u001b[0m\n",
      "\u001b[35m169.254.255.130 - - [03/Nov/2024:05:06:50 +0000] \"POST /invocations HTTP/1.1\" 200 763589 \"-\" \"Go-http-client/1.1\"\u001b[0m\n",
      "\u001b[34m169.254.255.130 - - [03/Nov/2024:05:06:50 +0000] \"POST /invocations HTTP/1.1\" 200 810410 \"-\" \"Go-http-client/1.1\"\u001b[0m\n",
      "\u001b[34m169.254.255.130 - - [03/Nov/2024:05:06:50 +0000] \"POST /invocations HTTP/1.1\" 200 810277 \"-\" \"Go-http-client/1.1\"\u001b[0m\n",
      "\u001b[34m169.254.255.130 - - [03/Nov/2024:05:06:50 +0000] \"POST /invocations HTTP/1.1\" 200 810334 \"-\" \"Go-http-client/1.1\"\u001b[0m\n",
      "\u001b[34m169.254.255.130 - - [03/Nov/2024:05:06:51 +0000] \"POST /invocations HTTP/1.1\" 200 810585 \"-\" \"Go-http-client/1.1\"\u001b[0m\n",
      "\u001b[34m169.254.255.130 - - [03/Nov/2024:05:06:51 +0000] \"POST /invocations HTTP/1.1\" 200 810248 \"-\" \"Go-http-client/1.1\"\u001b[0m\n",
      "\u001b[35m169.254.255.130 - - [03/Nov/2024:05:06:50 +0000] \"POST /invocations HTTP/1.1\" 200 810410 \"-\" \"Go-http-client/1.1\"\u001b[0m\n",
      "\u001b[35m169.254.255.130 - - [03/Nov/2024:05:06:50 +0000] \"POST /invocations HTTP/1.1\" 200 810277 \"-\" \"Go-http-client/1.1\"\u001b[0m\n",
      "\u001b[35m169.254.255.130 - - [03/Nov/2024:05:06:50 +0000] \"POST /invocations HTTP/1.1\" 200 810334 \"-\" \"Go-http-client/1.1\"\u001b[0m\n",
      "\u001b[35m169.254.255.130 - - [03/Nov/2024:05:06:51 +0000] \"POST /invocations HTTP/1.1\" 200 810585 \"-\" \"Go-http-client/1.1\"\u001b[0m\n",
      "\u001b[35m169.254.255.130 - - [03/Nov/2024:05:06:51 +0000] \"POST /invocations HTTP/1.1\" 200 810248 \"-\" \"Go-http-client/1.1\"\u001b[0m\n"
     ]
    }
   ],
   "source": [
    "# starts the batch transform job\n",
    "xgb_transformer.transform(\n",
    "    data=batch_input, data_type=\"S3Prefix\", content_type=\"text/csv\", split_type=\"Line\"\n",
    ")\n",
    "\n",
    "# waits for the batch transform job to finish\n",
    "xgb_transformer.wait()"
   ]
  },
  {
   "cell_type": "markdown",
   "id": "e74e9f0c",
   "metadata": {},
   "source": [
    "### Retrieving Prediction Results\n"
   ]
  },
  {
   "cell_type": "code",
   "execution_count": 72,
   "id": "c4ac70c5",
   "metadata": {
    "tags": []
   },
   "outputs": [],
   "source": [
    "# initialize the s3 client\n",
    "s3 = boto3.client(\"s3\")\n",
    "\n",
    "# get the batch output file generated by the batch transform job\n",
    "obj = s3.get_object(\n",
    "    Bucket=bucket, Key=\"{}/batch-out/{}\".format(prefix, \"batch-in.csv.out\")\n",
    ")\n",
    "\n",
    "# read the batch output file\n",
    "target_predicted = pd.read_csv(io.BytesIO(obj[\"Body\"].read()), names=[\"class\"])"
   ]
  },
  {
   "cell_type": "markdown",
   "id": "553c9e4c",
   "metadata": {},
   "source": [
    "### Exploring results\n"
   ]
  },
  {
   "cell_type": "code",
   "execution_count": 73,
   "id": "8d7e9653",
   "metadata": {
    "tags": []
   },
   "outputs": [
    {
     "name": "stdout",
     "output_type": "stream",
     "text": [
      "0    0\n",
      "1    0\n",
      "2    0\n",
      "3    0\n",
      "4    0\n",
      "Name: class, dtype: int64\n"
     ]
    },
    {
     "data": {
      "text/html": [
       "<div>\n",
       "<style scoped>\n",
       "    .dataframe tbody tr th:only-of-type {\n",
       "        vertical-align: middle;\n",
       "    }\n",
       "\n",
       "    .dataframe tbody tr th {\n",
       "        vertical-align: top;\n",
       "    }\n",
       "\n",
       "    .dataframe thead th {\n",
       "        text-align: right;\n",
       "    }\n",
       "</style>\n",
       "<table border=\"1\" class=\"dataframe\">\n",
       "  <thead>\n",
       "    <tr style=\"text-align: right;\">\n",
       "      <th></th>\n",
       "      <th>target</th>\n",
       "      <th>Distance</th>\n",
       "      <th>Quarter_2</th>\n",
       "      <th>Quarter_3</th>\n",
       "      <th>Quarter_4</th>\n",
       "      <th>Month_2</th>\n",
       "      <th>Month_3</th>\n",
       "      <th>Month_4</th>\n",
       "      <th>Month_5</th>\n",
       "      <th>Month_6</th>\n",
       "      <th>...</th>\n",
       "      <th>Dest_DEN</th>\n",
       "      <th>Dest_DFW</th>\n",
       "      <th>Dest_IAH</th>\n",
       "      <th>Dest_LAX</th>\n",
       "      <th>Dest_ORD</th>\n",
       "      <th>Dest_PHX</th>\n",
       "      <th>Dest_SFO</th>\n",
       "      <th>DepHourofDay_Morning</th>\n",
       "      <th>DepHourofDay_Afternoon</th>\n",
       "      <th>DepHourofDay_Evening</th>\n",
       "    </tr>\n",
       "  </thead>\n",
       "  <tbody>\n",
       "    <tr>\n",
       "      <th>470151</th>\n",
       "      <td>0.0</td>\n",
       "      <td>1947.0</td>\n",
       "      <td>1</td>\n",
       "      <td>0</td>\n",
       "      <td>0</td>\n",
       "      <td>0</td>\n",
       "      <td>0</td>\n",
       "      <td>0</td>\n",
       "      <td>1</td>\n",
       "      <td>0</td>\n",
       "      <td>...</td>\n",
       "      <td>0</td>\n",
       "      <td>0</td>\n",
       "      <td>0</td>\n",
       "      <td>0</td>\n",
       "      <td>0</td>\n",
       "      <td>0</td>\n",
       "      <td>0</td>\n",
       "      <td>0</td>\n",
       "      <td>1</td>\n",
       "      <td>0</td>\n",
       "    </tr>\n",
       "    <tr>\n",
       "      <th>985696</th>\n",
       "      <td>0.0</td>\n",
       "      <td>925.0</td>\n",
       "      <td>0</td>\n",
       "      <td>0</td>\n",
       "      <td>1</td>\n",
       "      <td>0</td>\n",
       "      <td>0</td>\n",
       "      <td>0</td>\n",
       "      <td>0</td>\n",
       "      <td>0</td>\n",
       "      <td>...</td>\n",
       "      <td>0</td>\n",
       "      <td>0</td>\n",
       "      <td>0</td>\n",
       "      <td>0</td>\n",
       "      <td>1</td>\n",
       "      <td>0</td>\n",
       "      <td>0</td>\n",
       "      <td>0</td>\n",
       "      <td>1</td>\n",
       "      <td>0</td>\n",
       "    </tr>\n",
       "    <tr>\n",
       "      <th>394886</th>\n",
       "      <td>0.0</td>\n",
       "      <td>862.0</td>\n",
       "      <td>0</td>\n",
       "      <td>0</td>\n",
       "      <td>0</td>\n",
       "      <td>1</td>\n",
       "      <td>0</td>\n",
       "      <td>0</td>\n",
       "      <td>0</td>\n",
       "      <td>0</td>\n",
       "      <td>...</td>\n",
       "      <td>1</td>\n",
       "      <td>0</td>\n",
       "      <td>0</td>\n",
       "      <td>0</td>\n",
       "      <td>0</td>\n",
       "      <td>0</td>\n",
       "      <td>0</td>\n",
       "      <td>1</td>\n",
       "      <td>0</td>\n",
       "      <td>0</td>\n",
       "    </tr>\n",
       "    <tr>\n",
       "      <th>924542</th>\n",
       "      <td>0.0</td>\n",
       "      <td>1744.0</td>\n",
       "      <td>0</td>\n",
       "      <td>1</td>\n",
       "      <td>0</td>\n",
       "      <td>0</td>\n",
       "      <td>0</td>\n",
       "      <td>0</td>\n",
       "      <td>0</td>\n",
       "      <td>0</td>\n",
       "      <td>...</td>\n",
       "      <td>0</td>\n",
       "      <td>0</td>\n",
       "      <td>0</td>\n",
       "      <td>1</td>\n",
       "      <td>0</td>\n",
       "      <td>0</td>\n",
       "      <td>0</td>\n",
       "      <td>1</td>\n",
       "      <td>0</td>\n",
       "      <td>0</td>\n",
       "    </tr>\n",
       "    <tr>\n",
       "      <th>1533313</th>\n",
       "      <td>0.0</td>\n",
       "      <td>936.0</td>\n",
       "      <td>1</td>\n",
       "      <td>0</td>\n",
       "      <td>0</td>\n",
       "      <td>0</td>\n",
       "      <td>0</td>\n",
       "      <td>0</td>\n",
       "      <td>0</td>\n",
       "      <td>1</td>\n",
       "      <td>...</td>\n",
       "      <td>0</td>\n",
       "      <td>1</td>\n",
       "      <td>0</td>\n",
       "      <td>0</td>\n",
       "      <td>0</td>\n",
       "      <td>0</td>\n",
       "      <td>0</td>\n",
       "      <td>1</td>\n",
       "      <td>0</td>\n",
       "      <td>0</td>\n",
       "    </tr>\n",
       "  </tbody>\n",
       "</table>\n",
       "<p>5 rows × 75 columns</p>\n",
       "</div>"
      ],
      "text/plain": [
       "         target  Distance  Quarter_2  Quarter_3  Quarter_4  Month_2  Month_3  \\\n",
       "470151      0.0    1947.0          1          0          0        0        0   \n",
       "985696      0.0     925.0          0          0          1        0        0   \n",
       "394886      0.0     862.0          0          0          0        1        0   \n",
       "924542      0.0    1744.0          0          1          0        0        0   \n",
       "1533313     0.0     936.0          1          0          0        0        0   \n",
       "\n",
       "         Month_4  Month_5  Month_6  ...  Dest_DEN  Dest_DFW  Dest_IAH  \\\n",
       "470151         0        1        0  ...         0         0         0   \n",
       "985696         0        0        0  ...         0         0         0   \n",
       "394886         0        0        0  ...         1         0         0   \n",
       "924542         0        0        0  ...         0         0         0   \n",
       "1533313        0        0        1  ...         0         1         0   \n",
       "\n",
       "         Dest_LAX  Dest_ORD  Dest_PHX  Dest_SFO  DepHourofDay_Morning  \\\n",
       "470151          0         0         0         0                     0   \n",
       "985696          0         1         0         0                     0   \n",
       "394886          0         0         0         0                     1   \n",
       "924542          1         0         0         0                     1   \n",
       "1533313         0         0         0         0                     1   \n",
       "\n",
       "         DepHourofDay_Afternoon  DepHourofDay_Evening  \n",
       "470151                        1                     0  \n",
       "985696                        1                     0  \n",
       "394886                        0                     0  \n",
       "924542                        0                     0  \n",
       "1533313                       0                     0  \n",
       "\n",
       "[5 rows x 75 columns]"
      ]
     },
     "execution_count": 73,
     "metadata": {},
     "output_type": "execute_result"
    }
   ],
   "source": [
    "# functoin to convert the predicted values to binary\n",
    "def binary_convert(x):\n",
    "    threshold = 0.3\n",
    "    if x > threshold:\n",
    "        return 1\n",
    "    else:\n",
    "        return 0\n",
    "\n",
    "\n",
    "# convert the predicted values to binary\n",
    "target_predicted_binary = target_predicted[\"class\"].apply(binary_convert)\n",
    "\n",
    "print(target_predicted_binary.head(5))\n",
    "test.head(5)"
   ]
  },
  {
   "cell_type": "code",
   "execution_count": 74,
   "id": "7e343a37-e7d9-42d2-935d-21c3e3b9d423",
   "metadata": {
    "tags": []
   },
   "outputs": [
    {
     "data": {
      "text/plain": [
       "470151     0.0\n",
       "985696     0.0\n",
       "394886     0.0\n",
       "924542     0.0\n",
       "1533313    0.0\n",
       "Name: target, dtype: float64"
      ]
     },
     "execution_count": 74,
     "metadata": {},
     "output_type": "execute_result"
    }
   ],
   "source": [
    "# extract the test labels\n",
    "test_labels = test.iloc[:, 0]\n",
    "\n",
    "test_labels.head(5)"
   ]
  },
  {
   "cell_type": "markdown",
   "id": "38e8a80c",
   "metadata": {},
   "source": [
    "### Results\n"
   ]
  },
  {
   "cell_type": "markdown",
   "id": "8aaa7934",
   "metadata": {},
   "source": [
    "#### Classification Report\n"
   ]
  },
  {
   "cell_type": "code",
   "execution_count": 75,
   "id": "ac6f9d40",
   "metadata": {
    "tags": []
   },
   "outputs": [
    {
     "name": "stdout",
     "output_type": "stream",
     "text": [
      "Classification Report on Test Data\n",
      "              precision    recall  f1-score   support\n",
      "\n",
      "         0.0       0.83      0.88      0.85    193838\n",
      "         1.0       0.40      0.30      0.34     51500\n",
      "\n",
      "    accuracy                           0.76    245338\n",
      "   macro avg       0.61      0.59      0.60    245338\n",
      "weighted avg       0.74      0.76      0.75    245338\n",
      "\n"
     ]
    }
   ],
   "source": [
    "# classification report\n",
    "from sklearn.metrics import classification_report\n",
    "\n",
    "# Classification report for test data\n",
    "print(\"Classification Report on Test Data\")\n",
    "print(classification_report(test_labels, target_predicted_binary))"
   ]
  },
  {
   "cell_type": "markdown",
   "id": "55f5b6c9",
   "metadata": {},
   "source": [
    "#### Confusion Matrix\n"
   ]
  },
  {
   "cell_type": "code",
   "execution_count": 76,
   "id": "bda75f6d",
   "metadata": {
    "tags": []
   },
   "outputs": [
    {
     "data": {
      "image/png": "[encoded data removed]",
      "text/plain": [
       "<Figure size 640x480 with 2 Axes>"
      ]
     },
     "metadata": {},
     "output_type": "display_data"
    }
   ],
   "source": [
    "# plot the confusion matrix\n",
    "plot_confusion_matrix(test_labels, target_predicted_binary)"
   ]
  },
  {
   "cell_type": "code",
   "execution_count": 77,
   "id": "165dd31f",
   "metadata": {},
   "outputs": [
    {
     "name": "stdout",
     "output_type": "stream",
     "text": [
      "True Negative (TN) : 171183\n",
      "False Positive (FP): 22655\n",
      "False Negative (FN): 36198\n",
      "True Positive (TP) : 15302\n"
     ]
    }
   ],
   "source": [
    "TN, FP, FN, TP = confusion_matrix(test_labels, target_predicted_binary).ravel()\n",
    "\n",
    "print(f\"True Negative (TN) : {TN}\")\n",
    "print(f\"False Positive (FP): {FP}\")\n",
    "print(f\"False Negative (FN): {FN}\")\n",
    "print(f\"True Positive (TP) : {TP}\")"
   ]
  },
  {
   "cell_type": "markdown",
   "id": "b348b857",
   "metadata": {},
   "source": [
    "#### Sensitivity\n",
    "\n",
    "_Sensitivity_ is also known as _hit rate_, _recall_, or _true positive rate (TPR)_. It measures the proportion of the actual positives that are correctly identified.\n"
   ]
  },
  {
   "cell_type": "code",
   "execution_count": 78,
   "id": "4c344567",
   "metadata": {},
   "outputs": [
    {
     "name": "stdout",
     "output_type": "stream",
     "text": [
      "Sensitivity or TPR: 29.712621359223302%\n",
      "There is a 29.712621359223302% chance of detecting detecting flights delayed are actually delayed.\n"
     ]
    }
   ],
   "source": [
    "# Sensitivity, hit rate, recall, or true positive rate\n",
    "Sensitivity = float(TP) / (TP + FN) * 100\n",
    "print(f\"Sensitivity or TPR: {Sensitivity}%\")\n",
    "print(\n",
    "    f\"There is a {Sensitivity}% chance of detecting detecting flights delayed are actually delayed.\"\n",
    ")"
   ]
  },
  {
   "cell_type": "markdown",
   "id": "3e5d1c8c",
   "metadata": {},
   "source": [
    "#### Specificity\n"
   ]
  },
  {
   "cell_type": "code",
   "execution_count": 79,
   "id": "971a16cc",
   "metadata": {},
   "outputs": [
    {
     "name": "stdout",
     "output_type": "stream",
     "text": [
      "Specificity or TNR: 88.31240520434591%\n",
      "There is a 88.31240520434591% chance of .flights on-time are actually on-time\n"
     ]
    }
   ],
   "source": [
    "# Specificity or true negative rate\n",
    "Specificity = float(TN) / (TN + FP) * 100\n",
    "print(f\"Specificity or TNR: {Specificity}%\")\n",
    "print(f\"There is a {Specificity}% chance of .flights on-time are actually on-time\")"
   ]
  },
  {
   "cell_type": "markdown",
   "id": "df12e9f3",
   "metadata": {},
   "source": [
    "#### Overall Accuracy\n"
   ]
  },
  {
   "cell_type": "code",
   "execution_count": 80,
   "id": "b635a2e9",
   "metadata": {},
   "outputs": [
    {
     "name": "stdout",
     "output_type": "stream",
     "text": [
      "Accuracy: 76.01146173849955%\n"
     ]
    }
   ],
   "source": [
    "# Overall accuracy\n",
    "ACC = float(TP + TN) / (TP + FP + FN + TN) * 100\n",
    "print(f\"Accuracy: {ACC}%\")"
   ]
  },
  {
   "cell_type": "markdown",
   "id": "9484f9b8",
   "metadata": {},
   "source": [
    "#### AUC-ROC Curve\n"
   ]
  },
  {
   "cell_type": "code",
   "execution_count": 81,
   "id": "7099d88c",
   "metadata": {},
   "outputs": [
    {
     "name": "stdout",
     "output_type": "stream",
     "text": [
      "Validation AUC 0.6730352404174559\n"
     ]
    }
   ],
   "source": [
    "from sklearn.metrics import roc_auc_score, roc_curve, auc\n",
    "\n",
    "print(\"Validation AUC\", roc_auc_score(test_labels, target_predicted))"
   ]
  },
  {
   "cell_type": "code",
   "execution_count": 82,
   "id": "ff1d020e",
   "metadata": {
    "tags": []
   },
   "outputs": [
    {
     "data": {
      "image/png": "[encoded data removed]",
      "text/plain": [
       "<Figure size 640x480 with 2 Axes>"
      ]
     },
     "metadata": {},
     "output_type": "display_data"
    }
   ],
   "source": [
    "import numpy as np\n",
    "\n",
    "fpr, tpr, thresholds = roc_curve(test_labels, target_predicted)\n",
    "\n",
    "finite_indices = np.isfinite(thresholds)\n",
    "fpr_finite = fpr[finite_indices]\n",
    "tpr_finite = tpr[finite_indices]\n",
    "thresholds_finite = thresholds[finite_indices]\n",
    "\n",
    "plt.figure()\n",
    "plt.plot(\n",
    "    fpr_finite,\n",
    "    tpr_finite,\n",
    "    label=\"ROC curve (area = %0.2f)\" % auc(fpr_finite, tpr_finite),\n",
    ")\n",
    "plt.plot([0, 1], [0, 1], \"k--\")  # Dashed diagonal\n",
    "plt.xlim([0.0, 1.0])\n",
    "plt.ylim([0.0, 1.05])\n",
    "plt.xlabel(\"False Positive Rate\")\n",
    "plt.ylabel(\"True Positive Rate\")\n",
    "plt.title(\"Receiver operating characteristic\")\n",
    "plt.legend(loc=\"lower right\")\n",
    "\n",
    "roc_auc = auc(fpr, tpr)\n",
    "\n",
    "if thresholds_finite.size > 0:\n",
    "    ax2 = plt.gca().twinx()\n",
    "    ax2.plot(\n",
    "        fpr_finite,\n",
    "        thresholds_finite,\n",
    "        markeredgecolor=\"r\",\n",
    "        linestyle=\"dashed\",\n",
    "        color=\"r\",\n",
    "    )\n",
    "    ax2.set_ylabel(\"Threshold\", color=\"r\")\n",
    "    ax2.set_ylim([thresholds_finite[-1], thresholds_finite[0]])\n",
    "    ax2.set_xlim([fpr_finite[0], fpr_finite[-1]])\n",
    "\n",
    "plt.show()"
   ]
  },
  {
   "cell_type": "markdown",
   "id": "14fa8443",
   "metadata": {},
   "source": [
    "## Observations and Insights\n",
    "\n",
    "---\n",
    "\n",
    "-\n"
   ]
  }
 ],
 "metadata": {
  "kernelspec": {
   "display_name": "conda_python3",
   "language": "python",
   "name": "conda_python3"
  },
  "language_info": {
   "codemirror_mode": {
    "name": "ipython",
    "version": 3
   },
   "file_extension": ".py",
   "mimetype": "text/x-python",
   "name": "python",
   "nbconvert_exporter": "python",
   "pygments_lexer": "ipython3",
   "version": "3.10.15"
  }
 },
 "nbformat": 4,
 "nbformat_minor": 5
}
